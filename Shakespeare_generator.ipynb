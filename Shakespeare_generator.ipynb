{
  "nbformat": 4,
  "nbformat_minor": 0,
  "metadata": {
    "colab": {
      "provenance": []
    },
    "kernelspec": {
      "name": "python3",
      "display_name": "Python 3"
    },
    "language_info": {
      "name": "python"
    },
    "accelerator": "GPU",
    "gpuClass": "standard"
  },
  "cells": [
    {
      "cell_type": "code",
      "execution_count": null,
      "metadata": {
        "id": "5I4orKIk0y5c"
      },
      "outputs": [],
      "source": [
        "import tensorflow as tf\n",
        "from tensorflow.keras.preprocessing.text import Tokenizer\n",
        "from tensorflow.keras.preprocessing.sequence import pad_sequences\n",
        "from tensorflow.keras.layers import Embedding, LSTM, Dense, Bidirectional, Dropout\n",
        "from tensorflow.keras.models import Sequential\n",
        "from tensorflow.keras import regularizers\n",
        "from tensorflow.keras.optimizers import Adam\n",
        "import numpy as np\n",
        "import pandas as pd\n",
        "import random"
      ]
    },
    {
      "cell_type": "code",
      "source": [
        "data = open('text.txt').read()\n",
        "data = data.split('\\n')\n",
        "#print(len(data))\n",
        "for i in data:\n",
        "  if ':' in i:\n",
        "    data.remove(i)\n",
        "data = [element for element in data if element.strip()]\n",
        "print(len(data))\n",
        "\n",
        "for i in range(22000):\n",
        "  choice = random.choice(data)\n",
        "  data.remove(choice)\n",
        "print(len(data))\n",
        "\n",
        "\n",
        "\n",
        "newdata = open('textnew.txt','a')\n",
        "newdata.write(str(data))\n",
        "#print(newdata.read())"
      ],
      "metadata": {
        "colab": {
          "base_uri": "https://localhost:8080/"
        },
        "id": "FJUToobt03D3",
        "outputId": "03dc97b5-fe2a-4df4-dcbd-2c1df6175447"
      },
      "execution_count": null,
      "outputs": [
        {
          "output_type": "stream",
          "name": "stdout",
          "text": [
            "23508\n",
            "1508\n"
          ]
        },
        {
          "output_type": "execute_result",
          "data": {
            "text/plain": [
              "64842"
            ]
          },
          "metadata": {},
          "execution_count": 2
        }
      ]
    },
    {
      "cell_type": "code",
      "source": [
        "tokenizer = Tokenizer()\n",
        "\n",
        "textdata= open('textnew.txt').read()\n",
        "\n",
        "corpus = textdata.lower().split('\\n')\n",
        "\n",
        "tokenizer.fit_on_texts(corpus)\n",
        "total_words = len(tokenizer.word_index) + 1\n",
        "\n",
        "print(tokenizer.word_index)\n",
        "print(total_words)"
      ],
      "metadata": {
        "colab": {
          "base_uri": "https://localhost:8080/"
        },
        "id": "J3OfxChv1WLO",
        "outputId": "87bec9ff-3dfe-4f7a-ccf2-4115784d1c20"
      },
      "execution_count": null,
      "outputs": [
        {
          "output_type": "stream",
          "name": "stdout",
          "text": [
            "{\"'\": 1, 'the': 2, 'to': 3, 'and': 4, 'of': 5, 'a': 6, 'i': 7, 'my': 8, 'you': 9, 'that': 10, 'is': 11, 'be': 12, 'not': 13, 'in': 14, 'me': 15, 'for': 16, 'this': 17, \"'and\": 18, 'your': 19, 'with': 20, 'have': 21, 'it': 22, \"'i\": 23, 'he': 24, 'thou': 25, 'as': 26, 'but': 27, 'his': 28, 'thy': 29, 'we': 30, 'him': 31, 'her': 32, 'good': 33, 'will': 34, 'no': 35, 'so': 36, 'by': 37, 'all': 38, 'are': 39, \"'to\": 40, 'what': 41, 'shall': 42, \"'the\": 43, 'do': 44, \"'o\": 45, 'thee': 46, 'our': 47, 'sir': 48, 'more': 49, 'on': 50, 'at': 51, 'lord': 52, 'come': 53, 'they': 54, 'she': 55, 'them': 56, 'here': 57, 'now': 58, 'was': 59, 'king': 60, 'then': 61, \"'that\": 62, 'their': 63, 'or': 64, 'hath': 65, 'how': 66, \"'for\": 67, 'am': 68, 'yet': 69, 'say': 70, 'us': 71, 'some': 72, \"'but\": 73, 'had': 74, 'than': 75, \"'you\": 76, 'would': 77, 'must': 78, \"i'll\": 79, 'which': 80, 'o': 81, \"'my\": 82, 'may': 83, 'one': 84, 'if': 85, 'make': 86, 'well': 87, 'go': 88, 'too': 89, 'from': 90, 'father': 91, \"'tis\": 92, \"'what\": 93, 'there': 94, 'can': 95, 'time': 96, 'an': 97, \"'a\": 98, 'were': 99, 'take': 100, 'give': 101, 'out': 102, 'mine': 103, 'such': 104, 'should': 105, 'know': 106, 'let': 107, \"'in\": 108, 'death': 109, \"'he\": 110, 'made': 111, 'art': 112, 'old': 113, 'tell': 114, 'like': 115, \"'how\": 116, \"'as\": 117, 'man': 118, \"'if\": 119, 'love': 120, \"'so\": 121, \"'ay\": 122, 'own': 123, 'speak': 124, 'hear': 125, 'mother': 126, 'name': 127, 'most': 128, 'never': 129, 'these': 130, 'being': 131, 'when': 132, 'up': 133, 'doth': 134, 'did': 135, 'think': 136, 'see': 137, \"'with\": 138, \"'which\": 139, \"'of\": 140, 'cannot': 141, 'away': 142, 'kate': 143, 'son': 144, 'fear': 145, 'any': 146, 'many': 147, \"'we\": 148, 'leave': 149, \"let's\": 150, 'long': 151, 'poor': 152, 'god': 153, 'brother': 154, 'night': 155, 'pray': 156, 'duke': 157, 'upon': 158, \"'then\": 159, 'again': 160, 'part': 161, \"'have\": 162, 'true': 163, 'friends': 164, 'blood': 165, \"'now\": 166, 'eyes': 167, 'both': 168, 'queen': 169, \"'no\": 170, 'rest': 171, 'very': 172, 'indeed': 173, 'bear': 174, 'way': 175, 'stand': 176, \"'when\": 177, \"'why\": 178, 'therefore': 179, 'fair': 180, 'unto': 181, \"'nay\": 182, 'wife': 183, \"'is\": 184, 'life': 185, 'done': 186, 'thousand': 187, 'why': 188, 'boy': 189, 'comes': 190, 'house': 191, 'sweet': 192, 'other': 193, 'heart': 194, 'worthy': 195, 'little': 196, 'gone': 197, 'off': 198, 'shame': 199, 'much': 200, \"'or\": 201, \"'thou\": 202, 'honour': 203, \"'well\": 204, 'till': 205, 'world': 206, 'who': 207, \"'from\": 208, \"'this\": 209, 'end': 210, 'before': 211, 'hand': 212, 'day': 213, \"'it\": 214, 'help': 215, 'better': 216, \"'than\": 217, 'full': 218, 'stay': 219, 'henry': 220, \"father's\": 221, 'edward': 222, 'eye': 223, 'soul': 224, \"'by\": 225, 'hence': 226, 'where': 227, 'madam': 228, \"'will\": 229, 'whom': 230, \"'come\": 231, \"and'\": 232, \"'be\": 233, \"that's\": 234, 'men': 235, \"i'\": 236, 'gracious': 237, 'noble': 238, \"'sir\": 239, \"we'll\": 240, 'hast': 241, 'power': 242, 'mind': 243, \"'his\": 244, 'tears': 245, 'dead': 246, 'though': 247, \"'upon\": 248, 'news': 249, 'nature': 250, 'ever': 251, 'happy': 252, 'wilt': 253, 'live': 254, 'thing': 255, 'grief': 256, 'york': 257, 'doubt': 258, 'prince': 259, 'gentle': 260, 'even': 261, 'crown': 262, 'look': 263, \"what's\": 264, 'first': 265, 'break': 266, 'home': 267, 'hope': 268, 'nor': 269, 'after': 270, 'lost': 271, 'farewell': 272, 'nothing': 273, 'last': 274, \"o'\": 275, 'husband': 276, 'twenty': 277, 'while': 278, 'holy': 279, \"'who\": 280, 'down': 281, 'cousin': 282, 'sovereign': 283, 'hands': 284, 'mean': 285, 'young': 286, \"'shall\": 287, 'fall': 288, 'wrong': 289, \"'where\": 290, \"'though\": 291, 'find': 292, 'die': 293, 'daughter': 294, 'words': 295, 'might': 296, 'tongue': 297, 'present': 298, 'grave': 299, 'rome': 300, 'lives': 301, 'two': 302, \"that'\": 303, 'warrant': 304, 'rather': 305, 'knowledge': 306, 'has': 307, 'war': 308, 'joy': 309, \"'your\": 310, 'dangerous': 311, 'lose': 312, 'best': 313, 'enemy': 314, 'spirit': 315, 'cause': 316, 'suffer': 317, 'forth': 318, 'pass': 319, 'about': 320, \"'thy\": 321, 'myself': 322, 'could': 323, 'grace': 324, 'corse': 325, 'sorrow': 326, 'thyself': 327, 'royal': 328, 'marry': 329, \"'twere\": 330, 'morrow': 331, 'bid': 332, 'new': 333, 'every': 334, 'tale': 335, 'light': 336, 'great': 337, 'without': 338, \"'give\": 339, 'something': 340, 'sister': 341, 'right': 342, 'meet': 343, 'thus': 344, 'dost': 345, 'head': 346, 'mad': 347, 'sea': 348, 'heaven': 349, 'mistress': 350, 'married': 351, 'warwick': 352, \"the'\": 353, \"'like\": 354, 'friend': 355, 'win': 356, 'strange': 357, 'marcius': 358, 'business': 359, 'another': 360, \"'were\": 361, 'general': 362, 'person': 363, 'ill': 364, \"'let\": 365, 'lies': 366, 'times': 367, \"he's\": 368, 'known': 369, 'hot': 370, \"'at\": 371, \"'twas\": 372, 'saw': 373, 'send': 374, \"man's\": 375, 'promise': 376, 'kept': 377, 'yield': 378, 'ho': 379, 'people': 380, 'patience': 381, 'those': 382, 'cold': 383, 'danger': 384, 'keep': 385, 'ten': 386, 'peace': 387, 'hold': 388, \"'not\": 389, 'thine': 390, 'nay': 391, 'fie': 392, \"be'\": 393, 'against': 394, 'foot': 395, 'bold': 396, \"is't\": 397, 'blame': 398, 'itself': 399, 'dull': 400, 'himself': 401, 'sword': 402, 'fortune': 403, \"edward's\": 404, 'since': 405, 'earth': 406, 'black': 407, 'sun': 408, 'comfort': 409, \"'madam\": 410, 'moon': 411, 'shalt': 412, 'lords': 413, 'enough': 414, 'word': 415, 'pardon': 416, 'left': 417, 'widow': 418, 'plain': 419, 'still': 420, 'norfolk': 421, 'majesty': 422, 'liege': 423, 'tender': 424, 'face': 425, 'over': 426, 'offer': 427, 'water': 428, 'get': 429, 'draw': 430, 'call': 431, 'fresh': 432, \"'tell\": 433, 'whose': 434, 'fellow': 435, 'play': 436, 'kiss': 437, 'lady': 438, 'wise': 439, 'pleasure': 440, 'nurse': 441, 'got': 442, 'pluck': 443, \"'ah\": 444, 'took': 445, 'master': 446, 'proud': 447, \"'nor\": 448, \"his'\": 449, 'none': 450, \"'whom\": 451, 'wind': 452, 'wherein': 453, \"know'\": 454, 'lamb': 455, \"'being\": 456, 'wine': 457, 'servant': 458, 'neither': 459, 'ears': 460, 'years': 461, 'din': 462, 'matter': 463, 'brought': 464, 'desert': 465, 'five': 466, \"'must\": 467, \"me'\": 468, 'show': 469, 'lay': 470, 'wild': 471, 'bred': 472, 'near': 473, 'brief': 474, 'ear': 475, 'weep': 476, \"take'\": 477, 'waked': 478, \"o'er\": 479, 'into': 480, 'fools': 481, \"'hath\": 482, \"'very\": 483, \"'might\": 484, 'thanks': 485, 'whence': 486, 'weak': 487, 'quench': 488, \"'do\": 489, 'yours': 490, 'else': 491, 'glory': 492, \"'ere\": 493, 'along': 494, 'counsel': 495, 'put': 496, \"'our\": 497, 'evil': 498, 'vengeance': 499, 'quarrel': 500, \"'did\": 501, 'piteous': 502, 'berkeley': 503, 'woman': 504, \"god's\": 505, 'mistake': 506, \"'she\": 507, 'yea': 508, \"england's\": 509, 'hateful': 510, 'garments': 511, 'margaret': 512, 'within': 513, 'ay': 514, 'three': 515, 'sons': 516, \"look'd\": 517, \"cause'\": 518, 'post': 519, 'state': 520, 'welcome': 521, 'dear': 522, 'tower': 523, 'heed': 524, 'faith': 525, 'heavy': 526, 'traitor': 527, 'hours': 528, 'fault': 529, 'golden': 530, 'wish': 531, 'deep': 532, 'field': 533, 'flowers': 534, 'richard': 535, 'clarence': 536, \"'thus\": 537, 'slain': 538, 'loving': 539, 'course': 540, 'paper': 541, \"'all\": 542, \"'look\": 543, 'ready': 544, \"'alack\": 545, 'forward': 546, 'common': 547, 'england': 548, 'laid': 549, 'duty': 550, 'marriage': 551, 'living': 552, 'presently': 553, 'reason': 554, 'service': 555, 'knee': 556, 'bosom': 557, 'lancaster': 558, 'subject': 559, 'subjects': 560, \"him'\": 561, 'remember': 562, 'forsworn': 563, 'patient': 564, \"have'\": 565, 'law': 566, 'because': 567, 'ancient': 568, 'cut': 569, 'winds': 570, 'morning': 571, 'hit': 572, 'only': 573, 'read': 574, \"'her\": 575, 'talk': 576, 'gentlemen': 577, 'feast': 578, 'back': 579, 'juliet': 580, 'montague': 581, 'shore': 582, 'romeo': 583, 'clouds': 584, 'ere': 585, \"there's\": 586, 'jest': 587, \"good'\": 588, 'care': 589, \"you'\": 590, 'slew': 591, 'child': 592, 'sin': 593, \"'go\": 594, 'beseech': 595, 'thought': 596, 'need': 597, 'friar': 598, 'sight': 599, 'return': 600, \"'had\": 601, 'stands': 602, 'prison': 603, \"you'll\": 604, 'brothers': 605, 'swear': 606, 'bohemia': 607, 'trust': 608, 'drunk': 609, 'perform': 610, 'dares': 611, \"with'\": 612, 'bring': 613, \"'till\": 614, 'please': 615, 'content': 616, 'knew': 617, 'countenance': 618, \"know't\": 619, 'abundance': 620, 'labour': 621, 'makes': 622, 'says': 623, 'granted': 624, 'opinion': 625, 'aufidius': 626, 'died': 627, 'action': 628, 'glad': 629, 'does': 630, \"'comes\": 631, 'whether': 632, \"all'\": 633, 'cominius': 634, \"'hark\": 635, 'far': 636, \"'against\": 637, 'mend': 638, 'charge': 639, 'sound': 640, 'serve': 641, \"'their\": 642, 'delay': 643, \"wash'd\": 644, 'prayers': 645, 'menenius': 646, \"prosperous'\": 647, 'sworn': 648, 'sore': 649, 'hearts': 650, 'event': 651, 'almost': 652, \"their'\": 653, \"'twixt\": 654, 'doing': 655, 'seem': 656, 'affect': 657, 'malice': 658, \"'most\": 659, 'elders': 660, 'coriolanus': 661, \"hear'\": 662, 'consul': 663, 'noise': 664, \"to't\": 665, \"'mine\": 666, 'gods': 667, 'voices': 668, \"pass'd\": 669, 'twice': 670, 'hundred': 671, 'piece': 672, \"'em\": 673, \"upon's\": 674, \"now'\": 675, 'rebellion': 676, 'remain': 677, 'lenity': 678, \"'stand\": 679, 'fast': 680, 'enemies': 681, \"'on\": 682, \"'hear\": 683, 'turn': 684, 'same': 685, \"peace'\": 686, \"heart'\": 687, \"body's\": 688, 'teach': 689, 'fine': 690, 'banishment': 691, \"them'\": 692, 'ye': 693, \"'still\": 694, \"most'\": 695, 'loved': 696, 'seen': 697, 'oft': 698, 'ripe': 699, 'under': 700, 'half': 701, 'behold': 702, \"'hail\": 703, 'sole': 704, 'throne': 705, 'stood': 706, 'breath': 707, 'perish': 708, 'stop': 709, \"virtuous'\": 710, \"thy'\": 711, 'moved': 712, \"to'\": 713, 'assured': 714, 'accept': 715, 'lend': 716, 'ha': 717, 'forgot': 718, 'work': 719, 'soldiers': 720, 'ask': 721, \"war's\": 722, 'bound': 723, \"'they\": 724, \"prevail'd\": 725, 'worth': 726, 'less': 727, 'move': 728, 'feel': 729, 'thrust': 730, 'lie': 731, 'struck': 732, 'dreadful': 733, 'delight': 734, 'bad': 735, 'lawful': 736, \"'alas\": 737, 'mortal': 738, 'hell': 739, 'open': 740, \"congeal'd\": 741, 'loveth': 742, 'just': 743, 'rutland': 744, \"made'\": 745, 'chertsey': 746, 'glass': 747, 'sake': 748, 'speaks': 749, 'sent': 750, 'presence': 751, \"'brother\": 752, 'gloucester': 753, 'injury': 754, 'deed': 755, 'babe': 756, 'charm': 757, 'high': 758, 'shake': 759, 'hair': 760, 'fearful': 761, 'children': 762, 'meddle': 763, \"'unto\": 764, 'arm': 765, 'hereafter': 766, \"offer'd\": 767, 'oxford': 768, 'pale': 769, 'straight': 770, 'ruled': 771, 'proof': 772, \"see'\": 773, 'buckingham': 774, 'begin': 775, 'place': 776, 'idle': 777, 'catesby': 778, \"perceive'\": 779, 'claim': 780, \"'good\": 781, 'met': 782, 'dinner': 783, 'limit': 784, 'body': 785, \"curse'\": 786, 'hastings': 787, 'lived': 788, 'answer': 789, \"think'\": 790, 'yoke': 791, 'revenue': 792, 'due': 793, 'fruit': 794, 'visit': 795, 'letters': 796, 'steel': 797, \"husband'\": 798, 'making': 799, \"'farewell\": 800, 'order': 801, 'close': 802, 'peevish': 803, 'tenderness': 804, 'kind': 805, 'begins': 806, 'sweets': 807, 'infant': 808, 'didst': 809, 'kill': 810, \"kill'd\": 811, 'knife': 812, 'dry': 813, 'weeping': 814, 'terms': 815, 'past': 816, 'necessity': 817, \"'some\": 818, 'welshman': 819, 'william': 820, \"wish'd\": 821, \"'here\": 822, 'want': 823, 'ink': 824, \"o'clock\": 825, 'forces': 826, 'mercy': 827, 'dream': 828, \"ta'en\": 829, 'slept': 830, 'horse': 831, 'rescue': 832, 'dire': 833, 'oath': 834, 'thomas': 835, 'princely': 836, \"say'st\": 837, 'heads': 838, 'seven': 839, 'groans': 840, \"'yea\": 841, \"'fall\": 842, 'thunder': 843, 'set': 844, 'boots': 845, 'strict': 846, 'sudden': 847, 'land': 848, 'events': 849, 'wreck': 850, 'sad': 851, 'false': 852, 'gasping': 853, \"deliver'd\": 854, 'bids': 855, \"banish'd\": 856, \"'stay\": 857, 'trusty': 858, 'goes': 859, 'view': 860, 'forest': 861, 'fires': 862, 'tops': 863, 'eastern': 864, 'rising': 865, 'east': 866, 'highness': 867, 'brass': 868, 'fire': 869, 'aumerle': 870, 'heir': 871, 'waste': 872, 'quite': 873, \"lord's\": 874, 'heard': 875, \"it'\": 876, 'foe': 877, 'breast': 878, 'fourth': 879, \"'little\": 880, 'beholding': 881, 'helping': 882, \"'an\": 883, 'deposed': 884, 'painted': 885, 'dozen': 886, 'alone': 887, \"'since\": 888, 'pride': 889, 'strike': 890, 'between': 891, 'crutch': 892, 'bed': 893, \"'out\": 894, 'waking': 895, 'sleep': 896, 'sadness': 897, 'rich': 898, 'names': 899, 'den': 900, 'liars': 901, 'yourself': 902, 'empty': 903, 'hazel': 904, 'dreams': 905, \"'true\": 906, 'foul': 907, 'longer': 908, 'bright': 909, 'palm': 910, 'lips': 911, \"'turn\": 912, 'maiden': 913, 'kings': 914, 'worn': 915, 'use': 916, 'dealing': 917, 'nine': 918, 'hadst': 919, \"are'\": 920, 'toil': 921, 'chide': 922, 'spy': 923, 'withal': 924, 'gentleman': 925, 'obey': 926, 'justice': 927, 'impatient': 928, 'bloody': 929, 'once': 930, 'deadly': 931, 'mightst': 932, \"'take\": 933, 'pity': 934, 'chance': 935, 'fetch': 936, 'hither': 937, 'bride': 938, 'money': 939, 'tread': 940, 'dust': 941, 'heavens': 942, \"stol'n\": 943, 'possession': 944, 'reign': 945, 'kingdom': 946, 'until': 947, 'oaths': 948, 'clifford': 949, 'wipe': 950, 'run': 951, \"'whose\": 952, 'kingly': 953, 'growing': 954, 'loss': 955, 'despair': 956, \"'away\": 957, 'measure': 958, 'pure': 959, 'seize': 960, 'subtle': 961, 'orator': 962, 'crowns': 963, 'become': 964, 'ourselves': 965, 'plight': 966, 'bona': 967, 'follow': 968, 'offence': 969, 'twain': 970, 'confess': 971, 'low': 972, 'choose': 973, 'exercise': 974, 'gates': 975, 'waves': 976, 'been': 977, 'ground': 978, 'haste': 979, 'went': 980, 'commission': 981, 'seek': 982, 'nose': 983, 'women': 984, \"for't\": 985, 'sickness': 986, 'colour': 987, \"'there\": 988, 'free': 989, \"sigh'\": 990, 'dame': 991, 'case': 992, 'fancy': 993, 'session': 994, 'came': 995, 'alive': 996, \"down'\": 997, 'command': 998, 'prithee': 999, 'wretch': 1000, \"my'\": 1001, 'prize': 1002, 'footman': 1003, 'purse': 1004, 'promised': 1005, \"'any\": 1006, 'thread': 1007, 'hour': 1008, \"'called\": 1009, \"no'\": 1010, 'pair': 1011, \"'would\": 1012, 'liberty': 1013, 'angelo': 1014, 'thieves': 1015, 'tapster': 1016, 'bawd': 1017, \"honour's\": 1018, 'liest': 1019, 'trade': 1020, \"duke'\": 1021, \"'grace\": 1022, 'virtue': 1023, 'acquainted': 1024, 'story': 1025, \"'pardon\": 1026, 'commodity': 1027, 'brown': 1028, 'practise': 1029, 'spoke': 1030, \"baptista's\": 1031, 'petruchio': 1032, 'hark': 1033, 'chat': 1034, 'aside': 1035, 'things': 1036, 'bianca': 1037, 'milan': 1038, \"'inventory\": 1039, 'particularise': 1040, \"our'\": 1041, \"instruments'\": 1042, 'cormorant': 1043, 'belly': 1044, \"restrain'd\": 1045, \"'note\": 1046, \"lead'st\": 1047, 'vantage': 1048, \"flatter'\": 1049, 'trusts': 1050, 'troop': 1051, 'petition': 1052, 'generosity': 1053, \"'shouting\": 1054, 'emulation': 1055, 'sicinius': 1056, 'velutus': 1057, \"'sdeath\": 1058, \"folly'\": 1059, \"'country\": 1060, 'voluptuously': 1061, 'surfeit': 1062, 'ladyship': 1063, \"'faith\": 1064, 'catched': 1065, 'penelope': 1066, 'sensible': 1067, 'finger': 1068, \"leave'\": 1069, \"of'\": 1070, 'mile': 1071, 'souls': 1072, 'geese': 1073, 'flight': 1074, 'agued': 1075, \"'fronts\": 1076, 'encountering': 1077, \"marcius'\": 1078, 'slip': 1079, \"smear'd\": 1080, \"'lesser\": 1081, 'report': 1082, 'deserving': 1083, 'coverture': 1084, 'wars': 1085, 'praises': 1086, 'sauced': 1087, 'priests': 1088, 'sacrifice': 1089, 'rotten': 1090, 'privilege': 1091, 'custom': 1092, \"'gainst\": 1093, 'baes': 1094, 'humorous': 1095, 'patrician': 1096, \"'loves\": 1097, 'cup': 1098, 'drop': 1099, \"allaying'\": 1100, \"'perfecter\": 1101, 'giber': 1102, 'table': 1103, \"necessary'\": 1104, \"'approbation\": 1105, \"'fidiused\": 1106, 'chests': 1107, 'corioli': 1108, \"gold'\": 1109, 'commoners': 1110, \"they'\": 1111, \"'only\": 1112, 'bearing': 1113, 'burdens': 1114, \"blows'\": 1115, \"stand'\": 1116, \"'him\": 1117, 'manifests': 1118, 'waved': 1119, 'indifferently': 1120, \"'opposite\": 1121, 'titus': 1122, 'lartius': 1123, 'remains': 1124, 'reverend': 1125, \"desire'\": 1126, 'request': 1127, 'kindest': 1128, \"'sit\": 1129, 'singly': 1130, 'counterpoised': 1131, 'sixteen': 1132, 'gan': 1133, \"pierce'\": 1134, 'attend': 1135, 'greater': 1136, 'carries': 1137, 'worthiest': 1138, \"done't\": 1139, 'drums': 1140, 'desire': 1141, \"'been\": 1142, 'rod': 1143, \"loved'\": 1144, 'seal': 1145, 'showing': 1146, 'heartily': 1147, 'voice': 1148, 'permit': 1149, \"'either\": 1150, 'unelected': 1151, 'goaded': 1152, 'onward': 1153, 'offices': 1154, 'inform': 1155, 'deserve': 1156, \"'becomes\": 1157, \"coriolanus'\": 1158, 'cockle': 1159, 'insolence': 1160, 'sedition': 1161, 'choler': 1162, 'poison': 1163, \"learn'd\": 1164, 'frank': 1165, 'donation': 1166, \"'tribunes\": 1167, \"'patricians\": 1168, \"'citizens\": 1169, 'point': 1170, 'liberties': 1171, 'unbuild': 1172, 'city': 1173, 'flat': 1174, 'ways': 1175, \"ground'\": 1176, 'tribunes': 1177, 'further': 1178, \"harm'\": 1179, \"here'\": 1180, \"'killing\": 1181, 'ounce': 1182, \"dropp'd\": 1183, 'country': 1184, 'wheel': 1185, \"horses'\": 1186, 'heels': 1187, 'pile': 1188, 'hills': 1189, 'tarpeian': 1190, 'rock': 1191, 'each': 1192, 'ends': 1193, 'companionship': 1194, 'allowance': 1195, \"bosom's\": 1196, 'truth': 1197, 'dishonours': 1198, \"loss'\": 1199, 'soldier': 1200, \"broils'\": 1201, \"'follow\": 1202, 'fiery': 1203, \"gulf'\": 1204, 'base': 1205, 'prompt': 1206, \"harlot's\": 1207, 'throat': 1208, \"turn'd\": 1209, \"'lest\": 1210, 'surcease': 1211, \"truth'\": 1212, 'cease': 1213, \"confused'\": 1214, \"'draw\": 1215, 'rougher': 1216, 'accents': 1217, 'malicious': 1218, 'sounds': 1219, 'cheque': 1220, 'courage': 1221, 'banish': 1222, 'defenders': 1223, \"length'\": 1224, 'foes': 1225, 'deliver': 1226, \"beast'\": 1227, \"lack'd\": 1228, 'salter': 1229, 'younger': 1230, 'venomous': 1231, 'sometime': 1232, 'stem': 1233, \"beheld'\": 1234, 'repeal': 1235, \"send'\": 1236, 'anger': 1237, 'juno': 1238, \"'fie\": 1239, \"'nicanor\": 1240, \"'coriolanus\": 1241, 'aptness': 1242, \"'distinctly\": 1243, 'billeted': 1244, 'already': 1245, 'entertainment': 1246, 'unmusical': 1247, \"volscians'\": 1248, 'fiends': 1249, \"'contend\": 1250, 'valour': 1251, \"purpose'\": 1252, 'flood': 1253, \"'broiled\": 1254, 'eaten': 1255, 'quietness': 1256, \"before'\": 1257, 'themselves': 1258, \"by't\": 1259, 'affecting': 1260, 'deepest': 1261, \"war'\": 1262, \"'thrusts\": 1263, 'horns': 1264, 'territories': 1265, \"already'\": 1266, 'franchises': 1267, 'whereon': 1268, \"confined'\": 1269, 'garlic': 1270, 'eaters': 1271, 'constant': 1272, \"beasts'\": 1273, 'sign': 1274, 'changeling': 1275, 'excuse': 1276, 'amended': 1277, 'spices': 1278, 'commendable': 1279, 'tomb': 1280, 'evident': 1281, \"chair'\": 1282, 'caius': 1283, 'countryman': 1284, \"measure'\": 1285, 'feeding': 1286, 'suppler': 1287, \"souls'\": 1288, \"'should\": 1289, \"'such\": 1290, 'deceived': 1291, 'glorious': 1292, 'sit': 1293, 'hourly': 1294, 'synod': 1295, \"'water\": 1296, 'hardly': 1297, \"'thee\": 1298, \"move'\": 1299, 'worst': 1300, 'godded': 1301, 'latest': 1302, \"refuge'\": 1303, \"only'\": 1304, 'shout': 1305, 'actor': 1306, \"'whilst\": 1307, 'softer': 1308, 'cushion': 1309, 'flint': 1310, 'slight': 1311, 'epitome': 1312, 'hail': 1313, 'cry': 1314, 'blest': 1315, 'uncertain': 1316, 'certain': 1317, \"'s\": 1318, 'lets': 1319, 'prate': 1320, 'laugh': 1321, 'dangerously': 1322, 'sweat': 1323, 'compassion': 1324, 'ladies': 1325, 'consuls': 1326, 'senators': 1327, 'patricians': 1328, \"bow'd\": 1329, 'spoil': 1330, 'giving': 1331, 'express': 1332, \"people'\": 1333, 'second': 1334, \"nurse's\": 1335, 'writ': 1336, 'annals': 1337, 'blind': 1338, \"herald'\": 1339, \"impatience'\": 1340, 'marches': 1341, 'delightful': 1342, 'measures': 1343, 'lamely': 1344, \"unfashionable'\": 1345, 'heirs': 1346, 'murderer': 1347, \"dubb'd\": 1348, 'gentlewomen': 1349, \"'touches\": 1350, 'deeper': 1351, 'imagine': 1352, 'pleaseth': 1353, 'saint': 1354, 'paul': 1355, 'diet': 1356, 'invocate': 1357, 'ghost': 1358, 'pour': 1359, 'helpless': 1360, 'balm': 1361, \"'cursed\": 1362, 'fatal': 1363, 'holes': 1364, 'mouths': 1365, 'bleed': 1366, 'afresh': 1367, 'supposed': 1368, 'evils': 1369, \"o'ershade\": 1370, 'revenged': 1371, 'reasonable': 1372, 'moan': 1373, 'pause': 1374, 'sob': 1375, 'monastery': 1376, \"'tressel\": 1377, \"'sirs\": 1378, \"'towards\": 1379, 'humour': 1380, \"woo'd\": 1381, 'bleeding': 1382, 'witness': 1383, 'hatred': 1384, \"'framed\": 1385, 'prodigality': 1386, 'maintain': 1387, 'cost': 1388, \"'shine\": 1389, 'bought': 1390, 'entertain': 1391, 'cheerfully': 1392, 'warn': 1393, \"'myself\": 1394, 'disgraced': 1395, \"nobility'\": 1396, 'shameful': 1397, 'small': 1398, \"'hie\": 1399, 'pedlar': 1400, 'abode': 1401, 'foulest': 1402, 'slay': 1403, \"wither'd\": 1404, 'hag': 1405, 'blasts': 1406, 'spotted': 1407, 'prophetess': 1408, 'curses': 1409, 'spend': 1410, 'buy': 1411, 'days': 1412, 'dismal': 1413, 'terror': 1414, 'ugly': 1415, 'sights': 1416, \"'methought\": 1417, 'wrecks': 1418, 'avenged': 1419, 'misdeeds': 1420, 'spare': 1421, 'guiltless': 1422, \"humour'\": 1423, \"'reputation\": 1424, 'gear': 1425, 'scarcely': 1426, 'frowning': 1427, 'judge': 1428, \"pronounced'\": 1429, \"unrip'dst\": 1430, 'bowels': 1431, \"sovereign's\": 1432, \"bless'd\": 1433, 'victorious': 1434, 'unviolable': 1435, 'scorn': 1436, 'sued': 1437, 'rage': 1438, 'rescued': 1439, 'carters': 1440, 'waiting': 1441, \"vassals'\": 1442, \"clarence'\": 1443, 'wail': 1444, \"'thine\": 1445, 'moiety': 1446, \"govern'd\": 1447, 'watery': 1448, 'moans': 1449, 'ludlow': 1450, \"sixth'\": 1451, 'rule': 1452, \"'ensuing\": 1453, 'dangers': 1454, \"'gloucester\": 1455, \"thoughts'\": 1456, 'tedious': 1457, 'wearisome': 1458, \"heavy'\": 1459, 'sanctuary': 1460, 'seizing': 1461, 'benefit': 1462, 'thereof': 1463, 'always': 1464, \"granted'\": 1465, \"'uncle\": 1466, 'mocks': 1467, 'parlous': 1468, 'loves': 1469, 'summon': 1470, 'leaden': 1471, 'icy': 1472, 'unwilling': 1473, 'highly': 1474, \"employ'd\": 1475, \"grace's\": 1476, \"'god\": 1477, 'pack': 1478, \"'dispatch\": 1479, 'holborn': 1480, 'hellish': 1481, 'charms': 1482, 'loath': 1483, 'slaughter': 1484, 'conversation': 1485, \"shore's\": 1486, 'timorously': 1487, \"confess'\": 1488, 'indictment': 1489, \"country's\": 1490, 'spake': 1491, \"'welcome\": 1492, 'dance': 1493, 'attendance': 1494, \"interruption'\": 1495, \"resign'\": 1496, 'bitterly': 1497, 'reproof': 1498, 'haply': 1499, 'sovereignty': 1500, 'fondly': 1501, 'impose': 1502, \"birth'\": 1503, 'tree': 1504, 'egally': 1505, 'estates': 1506, \"'master\": 1507, 'lieutenant': 1508, 'outstrip': 1509, 'cross': 1510, 'seas': 1511, \"son'\": 1512, 'red': 1513, 'sear': 1514, 'brain': 1515, 'issued': 1516, 'angel': 1517, 'woful': 1518, 'welcomer': 1519, 'rejoice': 1520, 'bitter': 1521, 'consequence': 1522, 'bastards': 1523, 'revolving': 1524, 'witty': 1525, \"buckingham'\": 1526, 'held': 1527, 'untired': 1528, 'keeping': 1529, 'earldom': 1530, 'hereford': 1531, \"moveables'\": 1532, 'richmond': 1533, \"'melting\": 1534, \"compassion'\": 1535, 'replenished': 1536, 'chaplain': 1537, 'buried': 1538, \"back'd\": 1539, 'hardy': 1540, 'welshmen': 1541, 'increaseth': 1542, 'traitors': 1543, 'brave': 1544, 'prosperity': 1545, \"mellow'\": 1546, 'watch': 1547, 'waning': 1548, 'adversaries': 1549, 'unblown': 1550, 'appearing': 1551, \"dimm'd\": 1552, 'morn': 1553, 'aged': 1554, 'kennel': 1555, 'womb': 1556, \"crept'\": 1557, 'quit': 1558, 'aim': 1559, 'shot': 1560, 'distressed': 1561, 'joyful': 1562, 'wails': 1563, 'calamity': 1564, 'intercepts': 1565, 'expedition': 1566, 'drown': 1567, 'exclamations': 1568, 'cousins': 1569, 'murderous': 1570, \"blunt'\": 1571, 'therewith': 1572, \"'therefore\": 1573, 'kindness': 1574, \"wrong'd\": 1575, \"'swear\": 1576, \"hast'\": 1577, \"'day\": 1578, \"'urge\": 1579, 'fond': 1580, 'designs': 1581, 'guess': 1582, 'wherefore': 1583, \"'please\": 1584, 'withholds': 1585, 'aid': 1586, 'gilbert': 1587, 'talbot': 1588, 'stanley': 1589, 'towards': 1590, 'london': 1591, 'bend': 1592, \"'wrong\": 1593, \"march'd\": 1594, 'impediment': 1595, \"'near\": 1596, 'town': 1597, 'leicester': 1598, \"learn'\": 1599, \"'call\": 1600, \"direction'\": 1601, 'discipline': 1602, \"tent'\": 1603, 'brandon': 1604, 'walter': 1605, 'herbert': 1606, 'dark': 1607, \"afford'\": 1608, \"'cuts\": 1609, 'ceremonious': 1610, 'vows': 1611, \"love'\": 1612, 'jesu': 1613, 'soft': 1614, 'buckle': 1615, 'armour': 1616, 'tardy': 1617, 'sluggard': 1618, 'somebody': 1619, 'ratcliff': 1620, 'winged': 1621, 'chiefest': 1622, 'direction': 1623, 'warlike': 1624, \"'rescue\": 1625, 'enacts': 1626, 'wonders': 1627, 'fights': 1628, \"'divided\": 1629, 'division': 1630, \"'hast\": 1631, 'according': 1632, 'band': 1633, 'mowbray': 1634, 'appellant': 1635, 'miscreant': 1636, 'accuse': 1637, 'zeal': 1638, \"debt'\": 1639, 'direct': 1640, 'alarms': 1641, 'rain': 1642, \"offenders'\": 1643, 'dried': 1644, \"nature's\": 1645, 'points': 1646, 'longs': 1647, 'enter': 1648, 'champions': 1649, 'prepared': 1650, \"stay'\": 1651, 'plated': 1652, 'habiliments': 1653, 'several': 1654, 'amazing': 1655, \"casque'\": 1656, \"'stands\": 1657, \"'sound\": 1658, 'trumpets': 1659, 'combatants': 1660, 'quiet': 1661, 'confines': 1662, 'fright': 1663, 'compassionate': 1664, \"'norfolk\": 1665, 'clogging': 1666, 'burthen': 1667, 'guilty': 1668, \"'devouring\": 1669, 'pestilence': 1670, 'hangs': 1671, \"air'\": 1672, \"'observed\": 1673, 'courtship': 1674, 'reversion': 1675, 'entreat': 1676, 'taste': 1677, 'sweetest': 1678, \"'small\": 1679, 'showers': 1680, 'storms': 1681, 'short': 1682, 'befits': 1683, 'composition': 1684, 'knows': 1685, 'reach': 1686, 'lease': 1687, 'supplant': 1688, 'rough': 1689, 'rug': 1690, 'headed': 1691, 'kerns': 1692, \"'about\": 1693, 'disgrace': 1694, 'triumphant': 1695, 'won': 1696, 'disposed': 1697, \"hearts'\": 1698, \"'barely\": 1699, 'title': 1700, \"ne'er\": 1701, \"moe'\": 1702, 'declining': 1703, 'severely': 1704, \"prosecute'\": 1705, 'kinsman': 1706, 'degenerate': 1707, 'speaking': 1708, 'slavish': 1709, \"sorrow's\": 1710, 'begot': 1711, 'conscience': 1712, 'kindred': 1713, 'sits': 1714, 'ireland': 1715, \"discover'\": 1716, \"forgot'\": 1717, 'approved': 1718, \"'show\": 1719, 'humble': 1720, 'miles': 1721, 'peaceful': 1722, \"'cherish\": 1723, 'rebels': 1724, 'caterpillars': 1725, 'commonwealth': 1726, 'crossly': 1727, 'charity': 1728, 'wash': 1729, \"men'\": 1730, \"dispark'd\": 1731, 'parks': 1732, \"fell'd\": 1733, 'woods': 1734, \"heaven's\": 1735, 'refuse': 1736, \"pines'\": 1737, \"'revolt\": 1738, \"arm'd\": 1739, \"'peace\": 1740, 'impregnable': 1741, \"humour'd\": 1742, 'inquire': 1743, 'reverence': 1744, 'learn': 1745, 'grassy': 1746, 'carpet': 1747, 'thundering': 1748, \"shock'\": 1749, 'faithful': 1750, \"weep'st\": 1751, 'hearted': 1752, 'pretty': 1753, 'match': 1754, 'shedding': 1755, \"'within\": 1756, 'therein': 1757, \"lies'\": 1758, \"strong'st\": 1759, 'surest': 1760, \"'cousin\": 1761, 'altogether': 1762, 'wanting': 1763, 'sing': 1764, \"soil's\": 1765, 'fertility': 1766, 'wholesome': 1767, 'weeds': 1768, 'fairest': 1769, 'choked': 1770, 'thrown': 1771, 'scale': 1772, 'plants': 1773, \"graft'st\": 1774, 'grow': 1775, \"crowns'\": 1776, 'vauntingly': 1777, 'spakest': 1778, 'brandish': 1779, 'revengeful': 1780, \"steel'\": 1781, \"'over\": 1782, 'glittering': 1783, 'helmet': 1784, 'task': 1785, 'spirits': 1786, 'plume': 1787, \"pluck'd\": 1788, 'willing': 1789, \"'prevent\": 1790, 'resist': 1791, 'conduct': 1792, \"well'\": 1793, 'bucket': 1794, 'salt': 1795, 'blinds': 1796, \"much'\": 1797, 'sterling': 1798, 'beguile': 1799, \"face'\": 1800, 'rise': 1801, 'nimbly': 1802, \"king's\": 1803, \"transform'd\": 1804, \"weaken'd\": 1805, 'bolingbroke': 1806, 'mourn': 1807, 'ashes': 1808, 'coal': 1809, 'imagery': 1810, 'said': 1811, \"once'\": 1812, 'rode': 1813, 'whilst': 1814, 'sacrament': 1815, 'confound': 1816, \"'sweet\": 1817, 'pardoning': 1818, 'transgressing': 1819, 'abbot': 1820, \"populous'\": 1821, 'treasons': 1822, 'beggar': 1823, 'wasted': 1824, \"neck'\": 1825, 'devil': 1826, 'add': 1827, 'gains': 1828, 'neck': 1829, 'collar': 1830, 'quickly': 1831, 'wall': 1832, 'masters': 1833, 'bite': 1834, 'thumb': 1835, \"'better\": 1836, \"master's\": 1837, 'kinsmen': 1838, \"'yes\": 1839, \"'part\": 1840, \"'three\": 1841, 'civil': 1842, 'brawls': 1843, 'airy': 1844, \"verona's\": 1845, 'citizens': 1846, 'wield': 1847, 'partisans': 1848, 'swung': 1849, \"'came\": 1850, 'fought': 1851, 'augmenting': 1852, 'dew': 1853, 'shady': 1854, 'curtains': 1855, \"aurora's\": 1856, 'coz': 1857, 'miss': 1858, \"she'll\": 1859, 'beauty': 1860, 'chaste': 1861, \"one'\": 1862, \"'find\": 1863, 'written': 1864, \"is'\": 1865, \"'written\": 1866, 'shoemaker': 1867, \"whipp'd\": 1868, 'tormented': 1869, \"gi'\": 1870, 'swan': 1871, 'crow': 1872, \"'transparent\": 1873, 'heretics': 1874, 'burnt': 1875, 'having': 1876, 'apology': 1877, 'candle': 1878, 'holder': 1879, \"fairies'\": 1880, 'midwife': 1881, 'wagon': 1882, 'spokes': 1883, \"spiders'\": 1884, 'legs': 1885, 'chariot': 1886, \"nut'\": 1887, 'cutting': 1888, 'foreign': 1889, 'throats': 1890, 'early': 1891, \"misgives'\": 1892, \"night's\": 1893, 'revels': 1894, 'expire': 1895, 'term': 1896, 'unwashed': 1897, \"'court\": 1898, 'cupboard': 1899, 'plate': 1900, \"save'\": 1901, \"'antony\": 1902, 'potpan': 1903, \"'brisk\": 1904, 'awhile': 1905, 'liver': 1906, 'musicians': 1907, 'torches': 1908, 'burn': 1909, 'beseeming': 1910, 'semblance': 1911, 'uncle': 1912, 'pilgrim': 1913, \"palmers'\": 1914, \"prayer's\": 1915, 'effect': 1916, \"'sin\": 1917, 'trespass': 1918, 'sweetly': 1919, 'urged': 1920, 'prepare': 1921, 'strangers': 1922, 'centre': 1923, 'conjure': 1924, 'daylight': 1925, 'lamp': 1926, \"heaven'\": 1927, 'sails': 1928, 'air': 1929, 'rose': 1930, \"'because\": 1931, 'vast': 1932, 'farthest': 1933, \"'else\": 1934, 'blush': 1935, 'bepaint': 1936, \"cheek'\": 1937, 'jove': 1938, 'laughs': 1939, 'frown': 1940, 'perverse': 1941, 'idolatry': 1942, 'bounty': 1943, 'boundless': 1944, \"'chequering\": 1945, 'streaks': 1946, 'advance': 1947, 'burning': 1948, \"'none\": 1949, 'different': 1950, \"'two\": 1951, 'opposed': 1952, 'encamp': 1953, \"still'\": 1954, 'argues': 1955, \"distemper'd\": 1956, 'roused': 1957, 'distemperature': 1958, 'intercession': 1959, 'likewise': 1960, 'steads': 1961, 'ring': 1962, 'ease': 1963, 'bench': 1964, 'bon': 1965, 'jour': 1966, 'french': 1967, 'salutation': 1968, 'wearing': 1969, 'singular': 1970, \"'fairer\": 1971, \"'mar\": 1972, \"weapon'\": 1973, 'gentlewoman': 1974, 'afternoon': 1975, 'rosemary': 1976, 'clock': 1977, 'nimble': 1978, \"pinion'd\": 1979, 'doves': 1980, 'bones': 1981, 'talked': 1982, 'shrift': 1983, 'drudge': 1984, \"'eye\": 1985, 'heel': 1986, 'budge': 1987, \"'lives\": 1988, \"'eight\": 1989, \"pitcher'\": 1990, 'faint': 1991, 'plague': 1992, 'houses': 1993, \"prince's\": 1994, 'ally': 1995, 'princes': 1996, 'beg': 1997, \"'romeo\": 1998, 'mercutio': 1999, 'price': 2000, 'owe': 2001, \"robes'\": 2002, 'bankrupt': 2003, 'smooth': 2004, 'mistaking': 2005, 'tybalts': 2006, \"tybalt's\": 2007, 'merciful': 2008, \"'death\": 2009, 'rude': 2010, 'unthankfulness': 2011, 'torture': 2012, 'exile': 2013, \"'wert\": 2014, 'tear': 2015, 'miserable': 2016, 'thursday': 2017, 'reflex': 2018, \"cynthia's\": 2019, 'brow': 2020, 'descend': 2021, 'count': 2022, \"years'\": 2023, 'wretched': 2024, 'puling': 2025, 'fool': 2026, 'sitting': 2027, 'sees': 2028, 'bottom': 2029, 'confession': 2030, \"borrow'd\": 2031, 'likeness': 2032, 'shrunk': 2033, 'drift': 2034, \"'hold\": 2035, 'strong': 2036, \"'henceforward\": 2037, \"'send\": 2038, 'county': 2039, 'knot': 2040, 'knit': 2041, \"'nurse\": 2042, 'closet': 2043, 'housewife': 2044, 'vault': 2045, 'receptacle': 2046, \"'mistress\": 2047, \"'help\": 2048, 'settled': 2049, 'joints': 2050, 'stiff': 2051, \"confusion's\": 2052, 'cure': 2053, 'dump': 2054, 'gleek': 2055, 'fa': 2056, 'note': 2057, 'hire': 2058, 'horses': 2059, 'misadventure': 2060, 'hereabouts': 2061, 'dwells': 2062, 'late': 2063, \"noted'\": 2064, 'forerun': 2065, 'cell': 2066, 'torch': 2067, 'aloof': 2068, 'churchyard': 2069, 'loose': 2070, 'unfirm': 2071, 'digging': 2072, 'graves': 2073, 'woe': 2074, 'canopy': 2075, 'stones': 2076, \"'wilt\": 2077, 'provoke': 2078, 'peruse': 2079, 'lantern': 2080, \"slaughter'd\": 2081, 'youth': 2082, \"conquer'd\": 2083, \"beauty's\": 2084, 'ensign': 2085, 'masterless': 2086, 'gory': 2087, \"swords'\": 2088, 'comfortable': 2089, 'restorative': 2090, 'dagger': 2091, \"whoe'er\": 2092, 'attach': 2093, 'bleeds': 2094, 'bell': 2095, 'descent': 2096, \"'bring\": 2097, 'parties': 2098, 'suspicion': 2099, \"'see\": 2100, 'scourge': 2101, 'hate': 2102, \"'can\": 2103, 'demand': 2104, 'lodge': 2105, 'aspire': 2106, 'disprove': 2107, \"forget'\": 2108, 'fifth': 2109, 'methinks': 2110, \"resign'd\": 2111, 'prejudicial': 2112, \"'enjoy\": 2113, 'decease': 2114, \"'base\": 2115, 'despairing': 2116, 'spark': 2117, 'bides': 2118, 'unnaturally': 2119, 'disinherit': 2120, \"'conditionally\": 2121, \"oath'\": 2122, \"'long\": 2123, 'plantagenet': 2124, 'embrace': 2125, 'extremes': 2126, 'borne': 2127, 'act': 2128, 'parliament': 2129, \"repeal'd\": 2130, 'victory': 2131, \"field'\": 2132, \"'revenged\": 2133, 'year': 2134, 'wear': 2135, \"woman's\": 2136, 'brethren': 2137, \"thine'\": 2138, \"son's\": 2139, 'cleaving': 2140, 'blade': 2141, 'purple': 2142, 'falchion': 2143, \"hilt'\": 2144, 'scorning': 2145, \"whate'er\": 2146, 'afflict': 2147, 'cony': 2148, 'struggle': 2149, 'net': 2150, 'mock': 2151, \"henry's\": 2152, 'chair': 2153, 'inhuman': 2154, 'inexorable': 2155, 'tidings': 2156, 'escape': 2157, 'kindling': 2158, 'coals': 2159, \"'tidings\": 2160, 'swiftly': 2161, 'posts': 2162, 'fled': 2163, 'famed': 2164, 'mildness': 2165, 'prayer': 2166, 'troublous': 2167, \"yonder's\": 2168, 'arch': 2169, 'irks': 2170, 'lick': 2171, 'smallest': 2172, 'worm': 2173, 'trodden': 2174, 'execution': 2175, 'big': 2176, 'swoln': 2177, \"'defy\": 2178, \"resolved'\": 2179, \"'whoever\": 2180, 'wot': 2181, \"mother's\": 2182, 'bathed': 2183, 'heated': 2184, 'bloods': 2185, 'hap': 2186, 'whither': 2187, 'fly': 2188, \"'forslow\": 2189, 'amain': 2190, 'dying': 2191, 'contend': 2192, \"'thereby\": 2193, 'minutes': 2194, 'created': 2195, 'yes': 2196, 'fold': 2197, 'wonted': 2198, \"tree's\": 2199, 'shade': 2200, 'fight': 2201, 'begetting': 2202, 'stratagems': 2203, 'fell': 2204, 'butcherly': 2205, 'robbers': 2206, \"'measure\": 2207, 'answered': 2208, 'understanding': 2209, 'bereft': 2210, \"'clifford\": 2211, 'repent': 2212, 'bootless': 2213, 'penitence': 2214, 'france': 2215, 'scotland': 2216, 'bending': 2217, 'caesar': 2218, 'quondam': 2219, 'wisest': 2220, 'strengthen': 2221, 'support': 2222, 'forsaken': 2223, \"went'st\": 2224, 'forlorn': 2225, 'anointed': 2226, 'months': 2227, 'officers': 2228, 'lands': 2229, 'canst': 2230, 'cavil': 2231, \"both'\": 2232, 'promontory': 2233, 'accomplish': 2234, 'envious': 2235, 'mountain': 2236, \"'seeking\": 2237, 'straying': 2238, 'nestor': 2239, 'springs': 2240, 'seest': 2241, 'moves': 2242, 'tide': 2243, 'albion': 2244, 'lastly': 2245, 'confirm': 2246, \"amity'\": 2247, 'virtuous': 2248, 'deceit': 2249, 'dishonour': 2250, \"loath'\": 2251, 'eternal': 2252, 'plant': 2253, 'sly': 2254, 'conveyance': 2255, 'abuse': 2256, 'niece': 2257, 'lewis': 2258, 'vouchsafe': 2259, 'furnish': 2260, \"us'\": 2261, \"'dear\": 2262, \"revenged'\": 2263, 'supply': 2264, 'agree': 2265, \"'shalt\": 2266, 'waft': 2267, 'fleet': 2268, 'mischance': 2269, 'forbear': 2270, 'chosen': 2271, \"'suppose\": 2272, 'somerset': 2273, 'speed': 2274, 'elsewhere': 2275, 'befall': 2276, \"'resolve\": 2277, 'carelessly': 2278, \"encamp'd\": 2279, 'surprise': 2280, 'commands': 2281, \"king'\": 2282, 'study': 2283, \"people's\": 2284, 'welfare': 2285, \"'these\": 2286, 'sucking': 2287, 'sighs': 2288, 'english': 2289, 'huntsmen': 2290, 'incaged': 2291, \"birds'\": 2292, 'hurt': 2293, 'protector': 2294, 'chief': 2295, 'affairs': 2296, 'hunting': 2297, 'daily': 2298, \"provide'\": 2299, 'salve': 2300, 'betide': 2301, 'forthwith': 2302, 'brittany': 2303, 'ravenspurgh': 2304, 'haven': 2305, 'fain': 2306, \"'above\": 2307, 'border': 2308, 'horizon': 2309, 'minded': 2310, 'fortunate': 2311, 'sail': 2312, \"'wind\": 2313, 'changing': 2314, 'change': 2315, 'sold': 2316, 'arms': 2317, 'gave': 2318, 'shelter': 2319, 'eagle': 2320, 'dig': 2321, 'length': 2322, \"queen's\": 2323, \"'more\": 2324, 'ruthless': 2325, 'sands': 2326, 'rocks': 2327, 'resolved': 2328, \"untutor'd\": 2329, 'lad': 2330, 'malapert': 2331, \"'didst\": 2332, 'supper': 2333, \"'sirrah\": 2334, 'confer': 2335, 'trembling': 2336, 'wings': 2337, 'misdoubteth': 2338, 'bush': 2339, 'hapless': 2340, 'male': 2341, 'bird': 2342, \"'sink\": 2343, 'mounted': 2344, 'buz': 2345, 'abroad': 2346, \"prophecies'\": 2347, \"'counting\": 2348, \"'3\": 2349, \"vi'\": 2350, \"mow'd\": 2351, 'chains': 2352, \"fetter'd\": 2353, 'lion': 2354, 'afoot': 2355, \"summer's\": 2356, 'scalding': 2357, 'heat': 2358, \"'difference\": 2359, 'betwixt': 2360, 'sicilia': 2361, 'sleepy': 2362, 'drinks': 2363, \"between's\": 2364, 'unsphere': 2365, \"'stars\": 2366, \"smutch'd\": 2367, \"'almost\": 2368, 'eggs': 2369, 'seems': 2370, 'unsettled': 2371, 'cheer': 2372, \"'its\": 2373, \"pastime'\": 2374, 'harder': 2375, 'bosoms': 2376, 'looking': 2377, \"lines'\": 2378, 'ours': 2379, 'disease': 2380, \"feel't\": 2381, 'petitions': 2382, 'extraordinary': 2383, 'lower': 2384, \"messes'\": 2385, \"'business\": 2386, \"understand'\": 2387, 'entreaties': 2388, 'satisfy': 2389, \"'among\": 2390, 'infinite': 2391, 'doings': 2392, 'draught': 2393, 'cordial': 2394, 'success': 2395, 'caught': 2396, 'charged': 2397, 'freshest': 2398, 'reputation': 2399, 'dare': 2400, 'honesty': 2401, 'playfellow': 2402, 'eyebrows': 2403, 'wisdom': 2404, 'stirs': 2405, 'amongst': 2406, \"'was\": 2407, 'train': 2408, 'camillo': 2409, 'violent': 2410, 'hefts': 2411, 'plot': 2412, \"'bear\": 2413, 'prone': 2414, \"sex'\": 2415, 'honourable': 2416, 'lodged': 2417, \"burns'\": 2418, 'thoughts': 2419, 'qualified': 2420, \"charities'\": 2421, 'requires': 2422, \"'cease\": 2423, 'smell': 2424, 'sense': 2425, \"cold'\": 2426, 'satisfied': 2427, \"more'\": 2428, 'confined': 2429, 'conference': 2430, 'durst': 2431, 'tempt': 2432, 'minister': 2433, 'creep': 2434, 'shadows': 2435, 'partlet': 2436, 'bastard': 2437, 'baits': 2438, 'brat': 2439, \"husband's\": 2440, \"'once\": 2441, 'hinged': 2442, \"savours'\": 2443, 'guiding': 2444, 'needs': 2445, \"with't\": 2446, 'testimony': 2447, 'encounter': 2448, 'wrath': 2449, \"you're\": 2450, 'bidding': 2451, \"'summon\": 2452, \"arraign'\": 2453, 'praise': 2454, 'bears': 2455, 'derivative': 2456, 'merited': 2457, \"'cry\": 2458, 'strength': 2459, 'proceed': 2460, \"beholding'\": 2461, \"so'\": 2462, 'swift': 2463, 'leads': 2464, 'oils': 2465, 'newer': 2466, \"torture'\": 2467, 'pitied': 2468, \"long'\": 2469, 'deserts': 2470, 'speech': 2471, \"eyes'\": 2472, 'storm': 2473, \"'hunt\": 2474, 'weather': 2475, 'scared': 2476, 'chafes': 2477, 'rages': 2478, 'swallowed': 2479, 'yest': 2480, 'froth': 2481, \"you'ld\": 2482, \"'shoulder\": 2483, 'bone': 2484, 'cried': 2485, \"said'\": 2486, 'lucky': 2487, \"requires'\": 2488, \"'gentle\": 2489, 'spectators': 2490, \"'think\": 2491, 'spur': 2492, 'departure': 2493, 'removedness': 2494, \"this'\": 2495, 'willingly': 2496, \"'horn\": 2497, 'pipes': 2498, 'saffron': 2499, \"warden'\": 2500, 'stripes': 2501, 'received': 2502, \"mighty'\": 2503, 'faced': 2504, 'purchase': 2505, 'spice': 2506, 'self': 2507, \"'both\": 2508, 'welcomed': 2509, 'served': 2510, 'adds': 2511, \"art'\": 2512, 'gentler': 2513, 'scion': 2514, 'wildest': 2515, 'stock': 2516, \"'hot\": 2517, 'lavender': 2518, 'mints': 2519, 'savoury': 2520, 'marjoram': 2521, 'swallow': 2522, 'incident': 2523, 'maids': 2524, 'oxlips': 2525, 'strew': 2526, \"'fellow\": 2527, 'unbraided': 2528, 'wares': 2529, 'pedlars': 2530, \"'pins\": 2531, 'poking': 2532, 'sticks': 2533, 'mopsa': 2534, 'shouldst': 2535, 'tawdry': 2536, \"lace'\": 2537, 'month': 2538, \"'whither\": 2539, 'silk': 2540, 'shepherd': 2541, 'follows': 2542, 'swerve': 2543, 'force': 2544, \"knowledge'\": 2545, \"make'\": 2546, 'fit': 2547, 'acquaint': 2548, 'knowing': 2549, 'choice': 2550, 'shorten': 2551, 'week': 2552, \"piece'\": 2553, \"'speak\": 2554, 'diest': 2555, 'priest': 2556, 'shovels': 2557, 'cursed': 2558, 'fury': 2559, 'settle': 2560, \"'tug\": 2561, 'breeding': 2562, \"as'\": 2563, 'medicine': 2564, 'tune': 2565, 'drew': 2566, 'shakest': 2567, \"fear'\": 2568, \"'necessary\": 2569, \"requisite'\": 2570, \"lane's\": 2571, 'shop': 2572, 'church': 2573, 'insinuate': 2574, 'toaze': 2575, \"wears'\": 2576, \"shepherd's\": 2577, \"'pawn\": 2578, 'provided': 2579, 'heirless': 2580, \"'care\": 2581, 'issue': 2582, \"'again\": 2583, 'possess': 2584, 'corpse': 2585, 'stage': 2586, \"in't\": 2587, \"'affront\": 2588, 'image': 2589, 'folly': 2590, 'society': 2591, 'greetings': 2592, 'visible': 2593, 'gesture': 2594, 'looked': 2595, \"heard'\": 2596, \"'broken\": 2597, 'ballad': 2598, \"makers'\": 2599, \"'daughter\": 2600, 'clipping': 2601, \"old'\": 2602, \"'lie\": 2603, 'try': 2604, 'born': 2605, 'called': 2606, 'chiding': 2607, \"tender'\": 2608, 'sooner': 2609, 'ruddiness': 2610, 'lip': 2611, 'wet': 2612, \"'until\": 2613, \"then'\": 2614, 'government': 2615, 'properties': 2616, 'unfold': 2617, 'vienna': 2618, \"worth'\": 2619, \"'went\": 2620, 'commandments': 2621, \"scraped'\": 2622, 'shears': 2623, \"'velvet\": 2624, 'list': 2625, \"'behold\": 2626, 'mitigation': 2627, \"'hours\": 2628, 'precise': 2629, \"in'\": 2630, 'burgher': 2631, 'counsellors': 2632, 'lack': 2633, 'rats': 2634, 'ravin': 2635, 'proper': 2636, 'bane': 2637, \"'save\": 2638, 'denunciation': 2639, \"lack'\": 2640, \"'remaining\": 2641, 'coffer': 2642, \"youth'\": 2643, 'sorry': 2644, 'foolishly': 2645, \"a'\": 2646, 'statutes': 2647, 'biting': 2648, 'laws': 2649, 'teeming': 2650, 'foison': 2651, 'plenteous': 2652, \"womb'\": 2653, 'fearing': 2654, 'attempt': 2655, 'pregnant': 2656, 'parcel': 2657, 'longing': 2658, \"very'\": 2659, 'hoping': 2660, 'whip': 2661, \"'varlet\": 2662, 'wicked': 2663, 'varlet': 2664, \"'time\": 2665, \"respected'\": 2666, \"'name\": 2667, 'valiant': 2668, 'whipt': 2669, 'ward': 2670, 'sufficient': 2671, 'six': 2672, 'crave': 2673, 'admitted': 2674, 'severe': 2675, \"'those\": 2676, 'dared': 2677, \"thou'rt\": 2678, 'girl': 2679, \"morrow'\": 2680, 'provost': 2681, 'heavier': 2682, 'often': 2683, 'habit': 2684, \"'longer\": 2685, 'shorter': 2686, \"fitted'\": 2687, 'sicken': 2688, 'tax': 2689, \"masks'\": 2690, \"'women\": 2691, 'creation': 2692, \"mar'\": 2693, 'arrest': 2694, 'others': 2695, \"abhorr'd\": 2696, 'pollution': 2697, 'humbly': 2698, 'thank': 2699, \"do't\": 2700, 'shield': 2701, \"play'd\": 2702, 'dispense': 2703, 'leisure': 2704, 'avail': 2705, \"'bless\": 2706, 'picklock': 2707, \"'canst\": 2708, 'believe': 2709, 'deputy': 2710, 'given': 2711, \"'withdrawing\": 2712, \"'bringings\": 2713, 'appear': 2714, \"'love\": 2715, 'talks': 2716, \"'report\": 2717, \"'house\": 2718, 'eaves': 2719, 'lecherous': 2720, \"'one\": 2721, 'above': 2722, 'strifes': 2723, \"contended'\": 2724, \"'deceiving\": 2725, 'promises': 2726, 'betrothed': 2727, 'despised': 2728, \"'break\": 2729, 'song': 2730, 'quick': 2731, 'music': 2732, \"promise'\": 2733, 'maid': 2734, \"say'\": 2735, 'hangman': 2736, \"mystery'\": 2737, \"'proof\": 2738, 'penitent': 2739, \"doth'\": 2740, 'apprehends': 2741, 'dreadfully': 2742, \"but'\": 2743, \"'avouch\": 2744, 'ginger': 2745, 'accident': 2746, 'provides': 2747, 'journal': 2748, \"greeting'\": 2749, 'revenges': 2750, \"mariana's\": 2751, 'company': 2752, 'fairer': 2753, 'honest': 2754, 'bawdy': 2755, 'offend': 2756, 'proclaim': 2757, 'loud': 2758, \"speak'\": 2759, 'reckoning': 2760, 'badness': 2761, \"'many\": 2762, \"mad'\": 2763, 'probation': 2764, 'sisterhood': 2765, \"integrity'\": 2766, \"ripen'd\": 2767, 'scurvy': 2768, 'vouches': 2769, 'misreport': 2770, \"complaint'\": 2771, 'justify': 2772, 'nobleman': 2773, 'punk': 2774, \"'silence\": 2775, \"vow'd\": 2776, 'contract': 2777, \"'know\": 2778, 'clothes': 2779, 'rascal': 2780, \"'lord\": 2781, 'confessed': 2782, 'retort': 2783, 'manifest': 2784, 'appeal': 2785, 'provincial': 2786, \"state'\": 2787, 'dread': 2788, 'sacred': 2789, 'chastity': 2790, \"breach'\": 2791, 'isabel': 2792, 'dies': 2793, \"claudio's\": 2794, 'reserved': 2795, \"'whipt\": 2796, 'hanged': 2797, 'stocks': 2798, 'rogue': 2799, 'kindly': 2800, \"'trust\": 2801, 'dog': 2802, \"'believe\": 2803, 'purpose': 2804, \"trimm'd\": 2805, 'semiramis': 2806, 'shed': 2807, \"thee'\": 2808, 'household': 2809, 'stuff': 2810, 'pisa': 2811, \"left'\": 2812, 'satiety': 2813, 'seeks': 2814, 'thirst': 2815, \"'mi\": 2816, 'perdonato': 2817, 'access': 2818, \"fair'\": 2819, \"'every\": 2820, 'maintained': 2821, 'eldest': 2822, 'youngest': 2823, \"'sacred\": 2824, \"'basta\": 2825, \"'puts\": 2826, 'apparel': 2827, 'understand': 2828, 'verona': 2829, 'fortunes': 2830, 'farther': 2831, \"home'\": 2832, \"florentius'\": 2833, 'tells': 2834, 'flatly': 2835, 'wed': 2836, 'gold': 2837, 'board': 2838, \"loud'\": 2839, 'defects': 2840, 'rehearsed': 2841, 'signior': 2842, 'liberality': 2843, 'musician': 2844, 'instruct': 2845, 'dowry': 2846, 'woo': 2847, 'cat': 2848, \"'hortensio\": 2849, \"man'\": 2850, 'generally': 2851, \"swear'\": 2852, 'occasion': 2853, 'revenge': 2854, 'freely': 2855, 'scholar': 2856, 'pupils': 2857, 'mountains': 2858, 'devilish': 2859, 'twangling': 2860, 'jack': 2861, 'vile': 2862, 'bonny': 2863, 'sometimes': 2864, 'curst': 2865, 'consolation': 2866, 'herald': 2867, 'books': 2868, 'nuts': 2869, 'sweeter': 2870, 'kernels': 2871, 'setting': 2872, \"kate'\": 2873, \"show'd\": 2874, 'fatherly': 2875, 'regard': 2876, 'conclude': 2877, \"'greed\": 2878, 'together': 2879, \"bargain'd\": 2880, \"o'sunday\": 2881, 'fretting': 2882, \"'pewter\": 2883, \"belong'\": 2884, 'soon': 2885, \"entertainment'\": 2886, \"'preposterous\": 2887, 'ass': 2888, \"far'\": 2889, 'double': 2890, 'treble': 2891, 'jars': 2892, 'means': 2893, 'coming': 2894, 'chine': 2895, 'troubled': 2896, 'lampass': 2897, \"infected'\": 2898, 'lackey': 2899, \"caparisoned'\": 2900, 'enforced': 2901, 'digress': 2902, 'consent': 2903, 'angry': 2904, \"'gentlemen\": 2905, 'bridal': 2906, \"'carouse\": 2907, 'maidenhead': 2908, 'goods': 2909, 'chattels': 2910, 'matches': 2911, 'wants': 2912, 'junkets': 2913, \"'trimmed\": 2914, 'rushes': 2915, 'strewed': 2916, 'cobwebs': 2917, 'swept': 2918, \"'hangs\": 2919, 'crossed': 2920, 'slippers': 2921, \"'knows\": 2922, 'falcon': 2923, 'sharp': 2924, 'passing': 2925, 'amid': 2926, 'hurly': 2927, \"intend'\": 2928, 'licio': 2929, 'wonderful': 2930, 'gait': 2931, 'surely': 2932, 'sooth': 2933, 'somewhat': 2934, 'resemble': 2935, \"devil's\": 2936, 'tailor': 2937, \"call'st\": 2938, \"'according\": 2939, 'fashion': 2940, \"'marry\": 2941, 'needle': 2942, \"worse'\": 2943, 'sport': 2944, \"'made\": 2945, 'weighty': 2946, \"'doth\": 2947, 'happily': 2948, 'interrupted': 2949, 'moralize': 2950, \"for'\": 2951, 'contented': 2952, 'shines': 2953, 'journey': 2954, 'changes': 2955, \"'fair\": 2956, 'merry': 2957, \"do'\": 2958, \"brought'\": 2959, \"'lucentio\": 2960, 'murdered': 2961, \"hold'\": 2962, 'officer': 2963, \"daughter'\": 2964, \"'first\": 2965, 'sirrah': 2966, \"'conceives\": 2967, 'likes': 2968, 'hortensio': 2969, 'wager': 2970, \"yet'\": 2971, 'built': 2972, 'obedience': 2973, 'silly': 2974, \"'too\": 2975, 'payment': 2976, 'debt': 2977, 'froward': 2978, 'unable': 2979, 'worms': 2980, 'mariners': 2981, 'yarely': 2982, 'washing': 2983, 'tides': 2984, \"'acre\": 2985, 'barren': 2986, 'heath': 2987, 'furze': 2988, \"any'\": 2989, \"'die\": 2990, 'dearest': 2991, 'harm': 2992, 'safely': 2993, 'ordered': 2994, 'remembrance': 2995, 'warrants': 2996, \"not'\": 2997, 'perfidious': 2998, 'next': 2999, \"thyself'\": 3000, 'trash': 3001, 'topping': 3002, \"created'\": 3003, \"'awaked\": 3004, 'dukedom': 3005, \"unbow'd\": 3006, 'alas': 3007, \"'mark\": 3008, 'condition': 3009, 'darkness': 3010, \"now's\": 3011, 'sighing': 3012, \"trouble'\": 3013, \"'infused\": 3014, 'fortitude': 3015, \"'brought\": 3016, \"prescience'\": 3017, 'claps': 3018, 'momentary': 3019, 'outrunning': 3020, \"cracks'\": 3021, \"'safely\": 3022, \"harbour'\": 3023, 'pains': 3024, \"think'st\": 3025, 'ooze': 3026, 'mischiefs': 3027, 'manifold': 3028, 'sorceries': 3029, \"terrible'\": 3030, 'sailors': 3031, 'slave': 3032, \"report'st\": 3033, 'wast': 3034, 'sure': 3035, 'cramps': 3036, 'beasts': 3037, 'tremble': 3038, 'instruction': 3039, \"give'\": 3040, 'naples': 3041, 'uneasy': 3042, 'lest': 3043, \"winning'\": 3044, 'island': 3045, \"'sea\": 3046, 'drink': 3047, 'food': 3048, \"'hence\": 3049, 'hang': 3050, 'advocate': 3051, 'imposter': 3052, 'hush': 3053, 'threats': 3054, \"escape'\": 3055, \"entertain'd\": 3056, \"'temperance\": 3057, 'delicate': 3058, 'wench': 3059, 'learnedly': 3060, 'delivered': 3061, 'notwithstanding': 3062, 'freshness': 3063, 'prosper': 3064, \"'bove\": 3065, 'contentious': 3066, \"oar'd\": 3067, \"herself'\": 3068, 'beam': 3069, 'bow': 3070, \"'son\": 3071, 'chirurgeonly': 3072, \"'scape\": 3073, 'innocent': 3074, \"produce'\": 3075, \"'noble\": 3076, 'sebastian': 3077}\n",
            "3078\n"
          ]
        }
      ]
    },
    {
      "cell_type": "code",
      "source": [
        "input_sequences = []\n",
        "\n",
        "for line in corpus:\n",
        "  token_list = tokenizer.texts_to_sequences([line])[0]\n",
        "  # print(\"LIST = \"+str(token_list))\n",
        "  for i in range(1, len(token_list)):\n",
        "    n_gram_sequence = token_list[:i+1]\n",
        "    # print(n_gram_sequence)\n",
        "    input_sequences.append(n_gram_sequence)\n",
        "\n",
        "# print(len(input_sequences))\n",
        "\n",
        "# #pad sequences\n",
        "max_sequence_len = max([len(seq) for seq in input_sequences])\n",
        "\n",
        "print(max_sequence_len, total_words)\n",
        "\n",
        "input_sequences = np.array(pad_sequences(input_sequences, padding='pre', maxlen=max_sequence_len))\n",
        "\n",
        "#create predictors and labels\n",
        "xs, labels = input_sequences[:,:-1], input_sequences[:,-1]\n",
        "\n",
        "ys = tf.keras.utils.to_categorical(labels, num_classes=total_words)"
      ],
      "metadata": {
        "id": "Dk5ujZgF4M1W",
        "colab": {
          "base_uri": "https://localhost:8080/"
        },
        "outputId": "bd27ec4b-b625-47fa-bd4b-be9423d0f5aa"
      },
      "execution_count": null,
      "outputs": [
        {
          "output_type": "stream",
          "name": "stdout",
          "text": [
            "12299 3078\n"
          ]
        }
      ]
    },
    {
      "cell_type": "code",
      "source": [
        "model = Sequential()\n",
        "model.add(Embedding(total_words, 100, input_length=max_sequence_len-1))\n",
        "model.add(Bidirectional(LSTM(150, return_sequences=True)))\n",
        "model.add(Dropout(0.3))\n",
        "model.add(Bidirectional(LSTM(96)))\n",
        "model.add(Dense(total_words/2, activation='relu', kernel_regularizer=regularizers.l2(0.01)))\n",
        "model.add(Dense(total_words, activation='softmax'))\n",
        "\n",
        "model.summary()"
      ],
      "metadata": {
        "id": "Ivam2iTC7hFU",
        "colab": {
          "base_uri": "https://localhost:8080/"
        },
        "outputId": "edcc2cdf-6468-4437-8217-bd480024b82f"
      },
      "execution_count": null,
      "outputs": [
        {
          "output_type": "stream",
          "name": "stdout",
          "text": [
            "Model: \"sequential\"\n",
            "_________________________________________________________________\n",
            " Layer (type)                Output Shape              Param #   \n",
            "=================================================================\n",
            " embedding (Embedding)       (None, 12298, 100)        307800    \n",
            "                                                                 \n",
            " bidirectional (Bidirectiona  (None, 12298, 300)       301200    \n",
            " l)                                                              \n",
            "                                                                 \n",
            " dropout (Dropout)           (None, 12298, 300)        0         \n",
            "                                                                 \n",
            " bidirectional_1 (Bidirectio  (None, 192)              304896    \n",
            " nal)                                                            \n",
            "                                                                 \n",
            " dense (Dense)               (None, 1539)              297027    \n",
            "                                                                 \n",
            " dense_1 (Dense)             (None, 3078)              4740120   \n",
            "                                                                 \n",
            "=================================================================\n",
            "Total params: 5,951,043\n",
            "Trainable params: 5,951,043\n",
            "Non-trainable params: 0\n",
            "_________________________________________________________________\n"
          ]
        }
      ]
    },
    {
      "cell_type": "code",
      "source": [
        "model.compile(loss='categorical_crossentropy', optimizer='adam', metrics=['acc'])\n",
        "history = model.fit(xs, ys, epochs=75, verbose=1)"
      ],
      "metadata": {
        "id": "xDXCeLyq_I1p",
        "colab": {
          "base_uri": "https://localhost:8080/",
          "height": 415
        },
        "outputId": "fe46ca7d-6e3d-42cb-8472-6335cc4f43db"
      },
      "execution_count": null,
      "outputs": [
        {
          "output_type": "stream",
          "name": "stdout",
          "text": [
            "Epoch 1/75\n",
            "385/385 [==============================] - 610s 2s/step - loss: 6.9823 - acc: 0.0734\n",
            "Epoch 2/75\n",
            " 84/385 [=====>........................] - ETA: 7:34 - loss: 6.4228 - acc: 0.0733"
          ]
        },
        {
          "output_type": "error",
          "ename": "KeyboardInterrupt",
          "evalue": "ignored",
          "traceback": [
            "\u001b[0;31m---------------------------------------------------------------------------\u001b[0m",
            "\u001b[0;31mKeyboardInterrupt\u001b[0m                         Traceback (most recent call last)",
            "\u001b[0;32m<ipython-input-6-d890cff70b53>\u001b[0m in \u001b[0;36m<module>\u001b[0;34m\u001b[0m\n\u001b[1;32m      1\u001b[0m \u001b[0mmodel\u001b[0m\u001b[0;34m.\u001b[0m\u001b[0mcompile\u001b[0m\u001b[0;34m(\u001b[0m\u001b[0mloss\u001b[0m\u001b[0;34m=\u001b[0m\u001b[0;34m'categorical_crossentropy'\u001b[0m\u001b[0;34m,\u001b[0m \u001b[0moptimizer\u001b[0m\u001b[0;34m=\u001b[0m\u001b[0;34m'adam'\u001b[0m\u001b[0;34m,\u001b[0m \u001b[0mmetrics\u001b[0m\u001b[0;34m=\u001b[0m\u001b[0;34m[\u001b[0m\u001b[0;34m'acc'\u001b[0m\u001b[0;34m]\u001b[0m\u001b[0;34m)\u001b[0m\u001b[0;34m\u001b[0m\u001b[0;34m\u001b[0m\u001b[0m\n\u001b[0;32m----> 2\u001b[0;31m \u001b[0mhistory\u001b[0m \u001b[0;34m=\u001b[0m \u001b[0mmodel\u001b[0m\u001b[0;34m.\u001b[0m\u001b[0mfit\u001b[0m\u001b[0;34m(\u001b[0m\u001b[0mxs\u001b[0m\u001b[0;34m,\u001b[0m \u001b[0mys\u001b[0m\u001b[0;34m,\u001b[0m \u001b[0mepochs\u001b[0m\u001b[0;34m=\u001b[0m\u001b[0;36m75\u001b[0m\u001b[0;34m,\u001b[0m \u001b[0mverbose\u001b[0m\u001b[0;34m=\u001b[0m\u001b[0;36m1\u001b[0m\u001b[0;34m)\u001b[0m\u001b[0;34m\u001b[0m\u001b[0;34m\u001b[0m\u001b[0m\n\u001b[0m",
            "\u001b[0;32m/usr/local/lib/python3.8/dist-packages/keras/utils/traceback_utils.py\u001b[0m in \u001b[0;36merror_handler\u001b[0;34m(*args, **kwargs)\u001b[0m\n\u001b[1;32m     63\u001b[0m         \u001b[0mfiltered_tb\u001b[0m \u001b[0;34m=\u001b[0m \u001b[0;32mNone\u001b[0m\u001b[0;34m\u001b[0m\u001b[0;34m\u001b[0m\u001b[0m\n\u001b[1;32m     64\u001b[0m         \u001b[0;32mtry\u001b[0m\u001b[0;34m:\u001b[0m\u001b[0;34m\u001b[0m\u001b[0;34m\u001b[0m\u001b[0m\n\u001b[0;32m---> 65\u001b[0;31m             \u001b[0;32mreturn\u001b[0m \u001b[0mfn\u001b[0m\u001b[0;34m(\u001b[0m\u001b[0;34m*\u001b[0m\u001b[0margs\u001b[0m\u001b[0;34m,\u001b[0m \u001b[0;34m**\u001b[0m\u001b[0mkwargs\u001b[0m\u001b[0;34m)\u001b[0m\u001b[0;34m\u001b[0m\u001b[0;34m\u001b[0m\u001b[0m\n\u001b[0m\u001b[1;32m     66\u001b[0m         \u001b[0;32mexcept\u001b[0m \u001b[0mException\u001b[0m \u001b[0;32mas\u001b[0m \u001b[0me\u001b[0m\u001b[0;34m:\u001b[0m\u001b[0;34m\u001b[0m\u001b[0;34m\u001b[0m\u001b[0m\n\u001b[1;32m     67\u001b[0m             \u001b[0mfiltered_tb\u001b[0m \u001b[0;34m=\u001b[0m \u001b[0m_process_traceback_frames\u001b[0m\u001b[0;34m(\u001b[0m\u001b[0me\u001b[0m\u001b[0;34m.\u001b[0m\u001b[0m__traceback__\u001b[0m\u001b[0;34m)\u001b[0m\u001b[0;34m\u001b[0m\u001b[0;34m\u001b[0m\u001b[0m\n",
            "\u001b[0;32m/usr/local/lib/python3.8/dist-packages/keras/engine/training.py\u001b[0m in \u001b[0;36mfit\u001b[0;34m(self, x, y, batch_size, epochs, verbose, callbacks, validation_split, validation_data, shuffle, class_weight, sample_weight, initial_epoch, steps_per_epoch, validation_steps, validation_batch_size, validation_freq, max_queue_size, workers, use_multiprocessing)\u001b[0m\n\u001b[1;32m   1648\u001b[0m                         ):\n\u001b[1;32m   1649\u001b[0m                             \u001b[0mcallbacks\u001b[0m\u001b[0;34m.\u001b[0m\u001b[0mon_train_batch_begin\u001b[0m\u001b[0;34m(\u001b[0m\u001b[0mstep\u001b[0m\u001b[0;34m)\u001b[0m\u001b[0;34m\u001b[0m\u001b[0;34m\u001b[0m\u001b[0m\n\u001b[0;32m-> 1650\u001b[0;31m                             \u001b[0mtmp_logs\u001b[0m \u001b[0;34m=\u001b[0m \u001b[0mself\u001b[0m\u001b[0;34m.\u001b[0m\u001b[0mtrain_function\u001b[0m\u001b[0;34m(\u001b[0m\u001b[0miterator\u001b[0m\u001b[0;34m)\u001b[0m\u001b[0;34m\u001b[0m\u001b[0;34m\u001b[0m\u001b[0m\n\u001b[0m\u001b[1;32m   1651\u001b[0m                             \u001b[0;32mif\u001b[0m \u001b[0mdata_handler\u001b[0m\u001b[0;34m.\u001b[0m\u001b[0mshould_sync\u001b[0m\u001b[0;34m:\u001b[0m\u001b[0;34m\u001b[0m\u001b[0;34m\u001b[0m\u001b[0m\n\u001b[1;32m   1652\u001b[0m                                 \u001b[0mcontext\u001b[0m\u001b[0;34m.\u001b[0m\u001b[0masync_wait\u001b[0m\u001b[0;34m(\u001b[0m\u001b[0;34m)\u001b[0m\u001b[0;34m\u001b[0m\u001b[0;34m\u001b[0m\u001b[0m\n",
            "\u001b[0;32m/usr/local/lib/python3.8/dist-packages/tensorflow/python/util/traceback_utils.py\u001b[0m in \u001b[0;36merror_handler\u001b[0;34m(*args, **kwargs)\u001b[0m\n\u001b[1;32m    148\u001b[0m     \u001b[0mfiltered_tb\u001b[0m \u001b[0;34m=\u001b[0m \u001b[0;32mNone\u001b[0m\u001b[0;34m\u001b[0m\u001b[0;34m\u001b[0m\u001b[0m\n\u001b[1;32m    149\u001b[0m     \u001b[0;32mtry\u001b[0m\u001b[0;34m:\u001b[0m\u001b[0;34m\u001b[0m\u001b[0;34m\u001b[0m\u001b[0m\n\u001b[0;32m--> 150\u001b[0;31m       \u001b[0;32mreturn\u001b[0m \u001b[0mfn\u001b[0m\u001b[0;34m(\u001b[0m\u001b[0;34m*\u001b[0m\u001b[0margs\u001b[0m\u001b[0;34m,\u001b[0m \u001b[0;34m**\u001b[0m\u001b[0mkwargs\u001b[0m\u001b[0;34m)\u001b[0m\u001b[0;34m\u001b[0m\u001b[0;34m\u001b[0m\u001b[0m\n\u001b[0m\u001b[1;32m    151\u001b[0m     \u001b[0;32mexcept\u001b[0m \u001b[0mException\u001b[0m \u001b[0;32mas\u001b[0m \u001b[0me\u001b[0m\u001b[0;34m:\u001b[0m\u001b[0;34m\u001b[0m\u001b[0;34m\u001b[0m\u001b[0m\n\u001b[1;32m    152\u001b[0m       \u001b[0mfiltered_tb\u001b[0m \u001b[0;34m=\u001b[0m \u001b[0m_process_traceback_frames\u001b[0m\u001b[0;34m(\u001b[0m\u001b[0me\u001b[0m\u001b[0;34m.\u001b[0m\u001b[0m__traceback__\u001b[0m\u001b[0;34m)\u001b[0m\u001b[0;34m\u001b[0m\u001b[0;34m\u001b[0m\u001b[0m\n",
            "\u001b[0;32m/usr/local/lib/python3.8/dist-packages/tensorflow/python/eager/polymorphic_function/polymorphic_function.py\u001b[0m in \u001b[0;36m__call__\u001b[0;34m(self, *args, **kwds)\u001b[0m\n\u001b[1;32m    878\u001b[0m \u001b[0;34m\u001b[0m\u001b[0m\n\u001b[1;32m    879\u001b[0m       \u001b[0;32mwith\u001b[0m \u001b[0mOptionalXlaContext\u001b[0m\u001b[0;34m(\u001b[0m\u001b[0mself\u001b[0m\u001b[0;34m.\u001b[0m\u001b[0m_jit_compile\u001b[0m\u001b[0;34m)\u001b[0m\u001b[0;34m:\u001b[0m\u001b[0;34m\u001b[0m\u001b[0;34m\u001b[0m\u001b[0m\n\u001b[0;32m--> 880\u001b[0;31m         \u001b[0mresult\u001b[0m \u001b[0;34m=\u001b[0m \u001b[0mself\u001b[0m\u001b[0;34m.\u001b[0m\u001b[0m_call\u001b[0m\u001b[0;34m(\u001b[0m\u001b[0;34m*\u001b[0m\u001b[0margs\u001b[0m\u001b[0;34m,\u001b[0m \u001b[0;34m**\u001b[0m\u001b[0mkwds\u001b[0m\u001b[0;34m)\u001b[0m\u001b[0;34m\u001b[0m\u001b[0;34m\u001b[0m\u001b[0m\n\u001b[0m\u001b[1;32m    881\u001b[0m \u001b[0;34m\u001b[0m\u001b[0m\n\u001b[1;32m    882\u001b[0m       \u001b[0mnew_tracing_count\u001b[0m \u001b[0;34m=\u001b[0m \u001b[0mself\u001b[0m\u001b[0;34m.\u001b[0m\u001b[0mexperimental_get_tracing_count\u001b[0m\u001b[0;34m(\u001b[0m\u001b[0;34m)\u001b[0m\u001b[0;34m\u001b[0m\u001b[0;34m\u001b[0m\u001b[0m\n",
            "\u001b[0;32m/usr/local/lib/python3.8/dist-packages/tensorflow/python/eager/polymorphic_function/polymorphic_function.py\u001b[0m in \u001b[0;36m_call\u001b[0;34m(self, *args, **kwds)\u001b[0m\n\u001b[1;32m    910\u001b[0m       \u001b[0;31m# In this case we have created variables on the first call, so we run the\u001b[0m\u001b[0;34m\u001b[0m\u001b[0;34m\u001b[0m\u001b[0;34m\u001b[0m\u001b[0m\n\u001b[1;32m    911\u001b[0m       \u001b[0;31m# defunned version which is guaranteed to never create variables.\u001b[0m\u001b[0;34m\u001b[0m\u001b[0;34m\u001b[0m\u001b[0;34m\u001b[0m\u001b[0m\n\u001b[0;32m--> 912\u001b[0;31m       \u001b[0;32mreturn\u001b[0m \u001b[0mself\u001b[0m\u001b[0;34m.\u001b[0m\u001b[0m_no_variable_creation_fn\u001b[0m\u001b[0;34m(\u001b[0m\u001b[0;34m*\u001b[0m\u001b[0margs\u001b[0m\u001b[0;34m,\u001b[0m \u001b[0;34m**\u001b[0m\u001b[0mkwds\u001b[0m\u001b[0;34m)\u001b[0m  \u001b[0;31m# pylint: disable=not-callable\u001b[0m\u001b[0;34m\u001b[0m\u001b[0;34m\u001b[0m\u001b[0m\n\u001b[0m\u001b[1;32m    913\u001b[0m     \u001b[0;32melif\u001b[0m \u001b[0mself\u001b[0m\u001b[0;34m.\u001b[0m\u001b[0m_variable_creation_fn\u001b[0m \u001b[0;32mis\u001b[0m \u001b[0;32mnot\u001b[0m \u001b[0;32mNone\u001b[0m\u001b[0;34m:\u001b[0m\u001b[0;34m\u001b[0m\u001b[0;34m\u001b[0m\u001b[0m\n\u001b[1;32m    914\u001b[0m       \u001b[0;31m# Release the lock early so that multiple threads can perform the call\u001b[0m\u001b[0;34m\u001b[0m\u001b[0;34m\u001b[0m\u001b[0;34m\u001b[0m\u001b[0m\n",
            "\u001b[0;32m/usr/local/lib/python3.8/dist-packages/tensorflow/python/eager/polymorphic_function/tracing_compiler.py\u001b[0m in \u001b[0;36m__call__\u001b[0;34m(self, *args, **kwargs)\u001b[0m\n\u001b[1;32m    132\u001b[0m       (concrete_function,\n\u001b[1;32m    133\u001b[0m        filtered_flat_args) = self._maybe_define_function(args, kwargs)\n\u001b[0;32m--> 134\u001b[0;31m     return concrete_function._call_flat(\n\u001b[0m\u001b[1;32m    135\u001b[0m         filtered_flat_args, captured_inputs=concrete_function.captured_inputs)  # pylint: disable=protected-access\n\u001b[1;32m    136\u001b[0m \u001b[0;34m\u001b[0m\u001b[0m\n",
            "\u001b[0;32m/usr/local/lib/python3.8/dist-packages/tensorflow/python/eager/polymorphic_function/monomorphic_function.py\u001b[0m in \u001b[0;36m_call_flat\u001b[0;34m(self, args, captured_inputs, cancellation_manager)\u001b[0m\n\u001b[1;32m   1743\u001b[0m         and executing_eagerly):\n\u001b[1;32m   1744\u001b[0m       \u001b[0;31m# No tape is watching; skip to running the function.\u001b[0m\u001b[0;34m\u001b[0m\u001b[0;34m\u001b[0m\u001b[0;34m\u001b[0m\u001b[0m\n\u001b[0;32m-> 1745\u001b[0;31m       return self._build_call_outputs(self._inference_function.call(\n\u001b[0m\u001b[1;32m   1746\u001b[0m           ctx, args, cancellation_manager=cancellation_manager))\n\u001b[1;32m   1747\u001b[0m     forward_backward = self._select_forward_and_backward_functions(\n",
            "\u001b[0;32m/usr/local/lib/python3.8/dist-packages/tensorflow/python/eager/polymorphic_function/monomorphic_function.py\u001b[0m in \u001b[0;36mcall\u001b[0;34m(self, ctx, args, cancellation_manager)\u001b[0m\n\u001b[1;32m    376\u001b[0m       \u001b[0;32mwith\u001b[0m \u001b[0m_InterpolateFunctionError\u001b[0m\u001b[0;34m(\u001b[0m\u001b[0mself\u001b[0m\u001b[0;34m)\u001b[0m\u001b[0;34m:\u001b[0m\u001b[0;34m\u001b[0m\u001b[0;34m\u001b[0m\u001b[0m\n\u001b[1;32m    377\u001b[0m         \u001b[0;32mif\u001b[0m \u001b[0mcancellation_manager\u001b[0m \u001b[0;32mis\u001b[0m \u001b[0;32mNone\u001b[0m\u001b[0;34m:\u001b[0m\u001b[0;34m\u001b[0m\u001b[0;34m\u001b[0m\u001b[0m\n\u001b[0;32m--> 378\u001b[0;31m           outputs = execute.execute(\n\u001b[0m\u001b[1;32m    379\u001b[0m               \u001b[0mstr\u001b[0m\u001b[0;34m(\u001b[0m\u001b[0mself\u001b[0m\u001b[0;34m.\u001b[0m\u001b[0msignature\u001b[0m\u001b[0;34m.\u001b[0m\u001b[0mname\u001b[0m\u001b[0;34m)\u001b[0m\u001b[0;34m,\u001b[0m\u001b[0;34m\u001b[0m\u001b[0;34m\u001b[0m\u001b[0m\n\u001b[1;32m    380\u001b[0m               \u001b[0mnum_outputs\u001b[0m\u001b[0;34m=\u001b[0m\u001b[0mself\u001b[0m\u001b[0;34m.\u001b[0m\u001b[0m_num_outputs\u001b[0m\u001b[0;34m,\u001b[0m\u001b[0;34m\u001b[0m\u001b[0;34m\u001b[0m\u001b[0m\n",
            "\u001b[0;32m/usr/local/lib/python3.8/dist-packages/tensorflow/python/eager/execute.py\u001b[0m in \u001b[0;36mquick_execute\u001b[0;34m(op_name, num_outputs, inputs, attrs, ctx, name)\u001b[0m\n\u001b[1;32m     50\u001b[0m   \u001b[0;32mtry\u001b[0m\u001b[0;34m:\u001b[0m\u001b[0;34m\u001b[0m\u001b[0;34m\u001b[0m\u001b[0m\n\u001b[1;32m     51\u001b[0m     \u001b[0mctx\u001b[0m\u001b[0;34m.\u001b[0m\u001b[0mensure_initialized\u001b[0m\u001b[0;34m(\u001b[0m\u001b[0;34m)\u001b[0m\u001b[0;34m\u001b[0m\u001b[0;34m\u001b[0m\u001b[0m\n\u001b[0;32m---> 52\u001b[0;31m     tensors = pywrap_tfe.TFE_Py_Execute(ctx._handle, device_name, op_name,\n\u001b[0m\u001b[1;32m     53\u001b[0m                                         inputs, attrs, num_outputs)\n\u001b[1;32m     54\u001b[0m   \u001b[0;32mexcept\u001b[0m \u001b[0mcore\u001b[0m\u001b[0;34m.\u001b[0m\u001b[0m_NotOkStatusException\u001b[0m \u001b[0;32mas\u001b[0m \u001b[0me\u001b[0m\u001b[0;34m:\u001b[0m\u001b[0;34m\u001b[0m\u001b[0;34m\u001b[0m\u001b[0m\n",
            "\u001b[0;31mKeyboardInterrupt\u001b[0m: "
          ]
        }
      ]
    },
    {
      "cell_type": "code",
      "source": [
        "def predict_next_words(seed_text, next_words):\n",
        "  for _ in range(next_words):\n",
        "    token_list = tokenizer.texts_to_sequences([seed_text])[0]\n",
        "    token_list = pad_sequences([token_list], maxlen=max_sequence_len-1, padding='pre')\n",
        "    predict_x=model.predict(token_list) \n",
        "    predicted=np.argmax(predict_x,axis=1)\n",
        "    # predicted = model.predict_classes(token_list, verbose=0)\n",
        "    output_word = \"\"\n",
        "    for word, index in tokenizer.word_index.items():\n",
        "      if index == predicted:\n",
        "        output_word = word\n",
        "        break\n",
        "    seed_text += \" \" + output_word\n",
        "\n",
        "  print(seed_text)\n",
        "  return seed_text"
      ],
      "metadata": {
        "id": "FcqzoTqo_Kx_"
      },
      "execution_count": null,
      "outputs": []
    },
    {
      "cell_type": "code",
      "source": [
        "seed_text = \"I am \"\n",
        "next_words = 120\n",
        "\n",
        "\n",
        "generated_text = predict_next_words(seed_text, next_words)"
      ],
      "metadata": {
        "colab": {
          "base_uri": "https://localhost:8080/"
        },
        "id": "aP1mtAUbB6N6",
        "outputId": "121d1170-6824-4b29-cd0e-ce49366e2df1"
      },
      "execution_count": null,
      "outputs": [
        {
          "output_type": "stream",
          "name": "stdout",
          "text": [
            "1/1 [==============================] - 1s 558ms/step\n",
            "1/1 [==============================] - 1s 519ms/step\n",
            "1/1 [==============================] - 0s 471ms/step\n",
            "1/1 [==============================] - 0s 500ms/step\n",
            "1/1 [==============================] - 1s 512ms/step\n",
            "1/1 [==============================] - 0s 493ms/step\n",
            "1/1 [==============================] - 1s 504ms/step\n",
            "1/1 [==============================] - 0s 478ms/step\n",
            "1/1 [==============================] - 0s 482ms/step\n",
            "1/1 [==============================] - 0s 481ms/step\n",
            "1/1 [==============================] - 1s 509ms/step\n",
            "1/1 [==============================] - 1s 513ms/step\n",
            "1/1 [==============================] - 1s 510ms/step\n",
            "1/1 [==============================] - 1s 510ms/step\n",
            "1/1 [==============================] - 1s 505ms/step\n",
            "1/1 [==============================] - 0s 489ms/step\n",
            "1/1 [==============================] - 1s 506ms/step\n",
            "1/1 [==============================] - 1s 506ms/step\n",
            "1/1 [==============================] - 1s 513ms/step\n",
            "1/1 [==============================] - 0s 475ms/step\n",
            "1/1 [==============================] - 1s 513ms/step\n",
            "1/1 [==============================] - 0s 465ms/step\n",
            "1/1 [==============================] - 0s 496ms/step\n",
            "1/1 [==============================] - 1s 507ms/step\n",
            "1/1 [==============================] - 1s 507ms/step\n",
            "1/1 [==============================] - 1s 510ms/step\n",
            "1/1 [==============================] - 0s 499ms/step\n",
            "1/1 [==============================] - 1s 509ms/step\n",
            "1/1 [==============================] - 0s 472ms/step\n",
            "1/1 [==============================] - 0s 477ms/step\n",
            "1/1 [==============================] - 0s 469ms/step\n",
            "1/1 [==============================] - 1s 505ms/step\n",
            "1/1 [==============================] - 1s 500ms/step\n",
            "1/1 [==============================] - 0s 499ms/step\n",
            "1/1 [==============================] - 1s 503ms/step\n",
            "1/1 [==============================] - 1s 518ms/step\n",
            "1/1 [==============================] - 1s 505ms/step\n",
            "1/1 [==============================] - 0s 500ms/step\n",
            "1/1 [==============================] - 1s 506ms/step\n",
            "1/1 [==============================] - 1s 508ms/step\n",
            "1/1 [==============================] - 1s 521ms/step\n",
            "1/1 [==============================] - 0s 483ms/step\n",
            "1/1 [==============================] - 0s 481ms/step\n",
            "1/1 [==============================] - 0s 484ms/step\n",
            "1/1 [==============================] - 0s 488ms/step\n",
            "1/1 [==============================] - 1s 508ms/step\n",
            "1/1 [==============================] - 1s 511ms/step\n",
            "1/1 [==============================] - 1s 510ms/step\n",
            "1/1 [==============================] - 0s 475ms/step\n",
            "1/1 [==============================] - 0s 498ms/step\n",
            "1/1 [==============================] - 0s 468ms/step\n",
            "1/1 [==============================] - 1s 526ms/step\n",
            "1/1 [==============================] - 1s 502ms/step\n",
            "1/1 [==============================] - 1s 510ms/step\n",
            "1/1 [==============================] - 1s 511ms/step\n",
            "1/1 [==============================] - 1s 507ms/step\n",
            "1/1 [==============================] - 0s 481ms/step\n",
            "1/1 [==============================] - 0s 472ms/step\n",
            "1/1 [==============================] - 1s 509ms/step\n",
            "1/1 [==============================] - 1s 514ms/step\n",
            "1/1 [==============================] - 1s 504ms/step\n",
            "1/1 [==============================] - 1s 506ms/step\n",
            "1/1 [==============================] - 0s 497ms/step\n",
            "1/1 [==============================] - 1s 505ms/step\n",
            "1/1 [==============================] - 1s 509ms/step\n",
            "1/1 [==============================] - 1s 505ms/step\n",
            "1/1 [==============================] - 0s 471ms/step\n",
            "1/1 [==============================] - 0s 470ms/step\n",
            "1/1 [==============================] - 1s 501ms/step\n",
            "1/1 [==============================] - 0s 470ms/step\n",
            "1/1 [==============================] - 1s 503ms/step\n",
            "1/1 [==============================] - 0s 468ms/step\n",
            "1/1 [==============================] - 0s 470ms/step\n",
            "1/1 [==============================] - 0s 468ms/step\n",
            "1/1 [==============================] - 1s 509ms/step\n",
            "1/1 [==============================] - 0s 474ms/step\n",
            "1/1 [==============================] - 0s 479ms/step\n",
            "1/1 [==============================] - 0s 481ms/step\n",
            "1/1 [==============================] - 1s 503ms/step\n",
            "1/1 [==============================] - 1s 502ms/step\n",
            "1/1 [==============================] - 1s 502ms/step\n",
            "1/1 [==============================] - 1s 506ms/step\n",
            "1/1 [==============================] - 1s 503ms/step\n",
            "1/1 [==============================] - 1s 508ms/step\n",
            "1/1 [==============================] - 0s 487ms/step\n",
            "1/1 [==============================] - 1s 507ms/step\n",
            "1/1 [==============================] - 1s 518ms/step\n",
            "1/1 [==============================] - 1s 506ms/step\n",
            "1/1 [==============================] - 0s 499ms/step\n",
            "1/1 [==============================] - 1s 510ms/step\n",
            "1/1 [==============================] - 0s 484ms/step\n",
            "1/1 [==============================] - 1s 504ms/step\n",
            "1/1 [==============================] - 0s 474ms/step\n",
            "1/1 [==============================] - 1s 511ms/step\n",
            "1/1 [==============================] - 1s 506ms/step\n",
            "1/1 [==============================] - 0s 474ms/step\n",
            "1/1 [==============================] - 1s 503ms/step\n",
            "1/1 [==============================] - 1s 504ms/step\n",
            "1/1 [==============================] - 1s 506ms/step\n",
            "1/1 [==============================] - 1s 512ms/step\n",
            "1/1 [==============================] - 0s 499ms/step\n",
            "1/1 [==============================] - 1s 513ms/step\n",
            "1/1 [==============================] - 1s 503ms/step\n",
            "1/1 [==============================] - 1s 511ms/step\n",
            "1/1 [==============================] - 1s 509ms/step\n",
            "1/1 [==============================] - 1s 505ms/step\n",
            "1/1 [==============================] - 1s 510ms/step\n",
            "1/1 [==============================] - 0s 497ms/step\n",
            "1/1 [==============================] - 0s 488ms/step\n",
            "1/1 [==============================] - 1s 507ms/step\n",
            "1/1 [==============================] - 1s 507ms/step\n",
            "1/1 [==============================] - 0s 485ms/step\n",
            "1/1 [==============================] - 1s 505ms/step\n",
            "1/1 [==============================] - 1s 504ms/step\n",
            "1/1 [==============================] - 1s 504ms/step\n",
            "1/1 [==============================] - 1s 510ms/step\n",
            "1/1 [==============================] - 1s 507ms/step\n",
            "1/1 [==============================] - 0s 486ms/step\n",
            "1/1 [==============================] - 0s 481ms/step\n",
            "1/1 [==============================] - 1s 515ms/step\n",
            "I am  ' ' ' ' ' ' ' ' ' ' ' ' ' ' ' ' ' ' ' ' ' ' ' ' ' ' ' ' ' ' ' ' ' ' ' ' ' ' ' ' ' ' ' ' ' ' ' ' ' ' ' ' ' ' ' ' ' ' ' ' ' ' ' ' ' ' ' ' ' ' ' ' ' ' ' ' ' ' ' ' ' ' ' ' ' ' ' ' ' ' ' ' ' ' ' ' ' ' ' ' ' ' ' ' ' ' ' ' ' ' ' ' ' ' ' ' ' ' ' '\n"
          ]
        }
      ]
    },
    {
      "cell_type": "code",
      "source": [],
      "metadata": {
        "id": "SQIOKHbQGs8L"
      },
      "execution_count": null,
      "outputs": []
    }
  ]
}